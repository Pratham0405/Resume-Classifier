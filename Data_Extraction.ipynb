{
 "cells": [
  {
   "cell_type": "code",
   "execution_count": 44,
   "id": "42547bd0",
   "metadata": {},
   "outputs": [],
   "source": [
    "import pandas as pd\n",
    "import seaborn as sns\n",
    "import matplotlib.pyplot as plt\n",
    "import plotly.express as px\n",
    "import os\n",
    "import textract\n",
    "import warnings \n",
    "import PyPDF2\n",
    "warnings.filterwarnings('ignore')\n",
    "from nltk.corpus import stopwords\n",
    "from nltk.tokenize import RegexpTokenizer\n",
    "from wordcloud import WordCloud, STOPWORDS\n",
    "from nltk.stem import PorterStemmer, WordNetLemmatizer\n",
    "from sklearn.feature_extraction.text import CountVectorizer"
   ]
  },
  {
   "cell_type": "code",
   "execution_count": 45,
   "id": "3583230a",
   "metadata": {},
   "outputs": [],
   "source": [
    "#!pip install textract\n"
   ]
  },
  {
   "cell_type": "code",
   "execution_count": 46,
   "id": "feaa75ed",
   "metadata": {},
   "outputs": [],
   "source": [
    "path = 'D:\\EXCEL R\\Resume_Project\\Resume'"
   ]
  },
  {
   "cell_type": "code",
   "execution_count": 47,
   "id": "88588b96",
   "metadata": {},
   "outputs": [
    {
     "data": {
      "text/plain": [
       "['PeopleSoft',\n",
       " 'Peoplesoft Resume',\n",
       " 'React JS Developer',\n",
       " 'SQL Developer',\n",
       " 'Workday']"
      ]
     },
     "execution_count": 47,
     "metadata": {},
     "output_type": "execute_result"
    }
   ],
   "source": [
    "os.listdir('D:\\EXCEL R\\Resume_Project\\Resume')"
   ]
  },
  {
   "cell_type": "code",
   "execution_count": 48,
   "id": "82e85044",
   "metadata": {},
   "outputs": [
    {
     "data": {
      "text/html": [
       "<div>\n",
       "<style scoped>\n",
       "    .dataframe tbody tr th:only-of-type {\n",
       "        vertical-align: middle;\n",
       "    }\n",
       "\n",
       "    .dataframe tbody tr th {\n",
       "        vertical-align: top;\n",
       "    }\n",
       "\n",
       "    .dataframe thead th {\n",
       "        text-align: right;\n",
       "    }\n",
       "</style>\n",
       "<table border=\"1\" class=\"dataframe\">\n",
       "  <thead>\n",
       "    <tr style=\"text-align: right;\">\n",
       "      <th></th>\n",
       "      <th>Raw_Details</th>\n",
       "      <th>Category1</th>\n",
       "    </tr>\n",
       "  </thead>\n",
       "  <tbody>\n",
       "    <tr>\n",
       "      <th>0</th>\n",
       "      <td>Anubhav Kumar Singh\\t\\t\\n\\n\\n\\nCore Competenci...</td>\n",
       "      <td>PeopleSoft</td>\n",
       "    </tr>\n",
       "    <tr>\n",
       "      <th>1</th>\n",
       "      <td>G. Ananda Rayudu \\n\\n\\t\\t       https://www.li...</td>\n",
       "      <td>PeopleSoft</td>\n",
       "    </tr>\n",
       "    <tr>\n",
       "      <th>2</th>\n",
       "      <td>PeopleSoft Database Administrator\\n\\n         ...</td>\n",
       "      <td>PeopleSoft</td>\n",
       "    </tr>\n",
       "    <tr>\n",
       "      <th>3</th>\n",
       "      <td>Classification: Internal\\n\\nClassification: In...</td>\n",
       "      <td>PeopleSoft</td>\n",
       "    </tr>\n",
       "    <tr>\n",
       "      <th>4</th>\n",
       "      <td>Priyanka Ramadoss\\n\\n\\t61/46, MountPleasant, \\...</td>\n",
       "      <td>PeopleSoft</td>\n",
       "    </tr>\n",
       "    <tr>\n",
       "      <th>5</th>\n",
       "      <td>SIRAZUDDIN M\\n\\n\\tBangalore, INDIA\\t\\n\\n\\n\\n\\n...</td>\n",
       "      <td>PeopleSoft</td>\n",
       "    </tr>\n",
       "    <tr>\n",
       "      <th>6</th>\n",
       "      <td>PEOPLESOFT Administrator\\n\\n\\n\\n\\n\\nSRINIVAS.K...</td>\n",
       "      <td>PeopleSoft</td>\n",
       "    </tr>\n",
       "    <tr>\n",
       "      <th>7</th>\n",
       "      <td>PeopleSoft Admin\\n\\nVARKALA VIKAS\\n\\n\\n\\nCaree...</td>\n",
       "      <td>PeopleSoft</td>\n",
       "    </tr>\n",
       "    <tr>\n",
       "      <th>8</th>\n",
       "      <td>Vinod Akkala                                  ...</td>\n",
       "      <td>PeopleSoft</td>\n",
       "    </tr>\n",
       "    <tr>\n",
       "      <th>9</th>\n",
       "      <td>PeopleSoft Admin/PeopleSoft DBA\\n\\n\\n\\nGanesh ...</td>\n",
       "      <td>PeopleSoft</td>\n",
       "    </tr>\n",
       "    <tr>\n",
       "      <th>10</th>\n",
       "      <td>PeopleSoft Administration\\n\\n \\n\\nVivekanand S...</td>\n",
       "      <td>PeopleSoft</td>\n",
       "    </tr>\n",
       "    <tr>\n",
       "      <th>11</th>\n",
       "      <td>Arun Venu\\n\\n\\n\\n\\t  EXPERIENCE SUMMARY\\t\\n\\n\\...</td>\n",
       "      <td>PeopleSoft</td>\n",
       "    </tr>\n",
       "    <tr>\n",
       "      <th>12</th>\n",
       "      <td>Personal Details\\t\\t\\n\\n\\n\\nName\\n\\nPritam Bis...</td>\n",
       "      <td>PeopleSoft</td>\n",
       "    </tr>\n",
       "    <tr>\n",
       "      <th>13</th>\n",
       "      <td>Rahul Ahuja\\n\\n-------------------------------...</td>\n",
       "      <td>PeopleSoft</td>\n",
       "    </tr>\n",
       "    <tr>\n",
       "      <th>14</th>\n",
       "      <td>Hari Narayana \\t\\t              \\n\\n\\t\\n\\n\\n\\n...</td>\n",
       "      <td>PeopleSoft</td>\n",
       "    </tr>\n",
       "    <tr>\n",
       "      <th>15</th>\n",
       "      <td>Murali\\t\\t       \\n\\n\\t\\n\\n\\n\\n\\n\\n\\n\\n\\n\\n\\n\\...</td>\n",
       "      <td>PeopleSoft</td>\n",
       "    </tr>\n",
       "    <tr>\n",
       "      <th>16</th>\n",
       "      <td>Priyabrata Hota\\n\\n\\n\\n\\n\\nCAREER OBJECTIVE\\t\\...</td>\n",
       "      <td>PeopleSoft</td>\n",
       "    </tr>\n",
       "    <tr>\n",
       "      <th>17</th>\n",
       "      <td>R Ahmed                                       ...</td>\n",
       "      <td>PeopleSoft</td>\n",
       "    </tr>\n",
       "    <tr>\n",
       "      <th>18</th>\n",
       "      <td>Tanna Sujatha \\n\\n\\n\\n\\n\\n\\n\\nOBJECTIVE\\n\\nSee...</td>\n",
       "      <td>PeopleSoft</td>\n",
       "    </tr>\n",
       "    <tr>\n",
       "      <th>19</th>\n",
       "      <td>C O N T A C T :\\n\\n\\n\\nAddress: Manyata Tech P...</td>\n",
       "      <td>PeopleSoft</td>\n",
       "    </tr>\n",
       "  </tbody>\n",
       "</table>\n",
       "</div>"
      ],
      "text/plain": [
       "                                          Raw_Details   Category1\n",
       "0   Anubhav Kumar Singh\\t\\t\\n\\n\\n\\nCore Competenci...  PeopleSoft\n",
       "1   G. Ananda Rayudu \\n\\n\\t\\t       https://www.li...  PeopleSoft\n",
       "2   PeopleSoft Database Administrator\\n\\n         ...  PeopleSoft\n",
       "3   Classification: Internal\\n\\nClassification: In...  PeopleSoft\n",
       "4   Priyanka Ramadoss\\n\\n\\t61/46, MountPleasant, \\...  PeopleSoft\n",
       "5   SIRAZUDDIN M\\n\\n\\tBangalore, INDIA\\t\\n\\n\\n\\n\\n...  PeopleSoft\n",
       "6   PEOPLESOFT Administrator\\n\\n\\n\\n\\n\\nSRINIVAS.K...  PeopleSoft\n",
       "7   PeopleSoft Admin\\n\\nVARKALA VIKAS\\n\\n\\n\\nCaree...  PeopleSoft\n",
       "8   Vinod Akkala                                  ...  PeopleSoft\n",
       "9   PeopleSoft Admin/PeopleSoft DBA\\n\\n\\n\\nGanesh ...  PeopleSoft\n",
       "10  PeopleSoft Administration\\n\\n \\n\\nVivekanand S...  PeopleSoft\n",
       "11  Arun Venu\\n\\n\\n\\n\\t  EXPERIENCE SUMMARY\\t\\n\\n\\...  PeopleSoft\n",
       "12  Personal Details\\t\\t\\n\\n\\n\\nName\\n\\nPritam Bis...  PeopleSoft\n",
       "13  Rahul Ahuja\\n\\n-------------------------------...  PeopleSoft\n",
       "14  Hari Narayana \\t\\t              \\n\\n\\t\\n\\n\\n\\n...  PeopleSoft\n",
       "15  Murali\\t\\t       \\n\\n\\t\\n\\n\\n\\n\\n\\n\\n\\n\\n\\n\\n\\...  PeopleSoft\n",
       "16  Priyabrata Hota\\n\\n\\n\\n\\n\\nCAREER OBJECTIVE\\t\\...  PeopleSoft\n",
       "17  R Ahmed                                       ...  PeopleSoft\n",
       "18  Tanna Sujatha \\n\\n\\n\\n\\n\\n\\n\\nOBJECTIVE\\n\\nSee...  PeopleSoft\n",
       "19  C O N T A C T :\\n\\n\\n\\nAddress: Manyata Tech P...  PeopleSoft"
      ]
     },
     "execution_count": 48,
     "metadata": {},
     "output_type": "execute_result"
    }
   ],
   "source": [
    "file_path1 = []\n",
    "category1  = []\n",
    "directory1 = 'D:\\EXCEL R\\Resume_Project\\Resume\\PeopleSoft'\n",
    "for i in os.listdir(directory1):\n",
    "    if i.endswith('.docx'):\n",
    "        os.path.join(directory1, i)\n",
    "        file_path1.append((textract.process(os.path.join(directory1, i))).decode('utf-8'))\n",
    "        category1.append('PeopleSoft')\n",
    "data1 = pd.DataFrame(data = file_path1 , columns = ['Raw_Details'])\n",
    "data1['Category1'] = category1\n",
    "data1"
   ]
  },
  {
   "cell_type": "code",
   "execution_count": 49,
   "id": "54308330",
   "metadata": {},
   "outputs": [
    {
     "data": {
      "text/html": [
       "<div>\n",
       "<style scoped>\n",
       "    .dataframe tbody tr th:only-of-type {\n",
       "        vertical-align: middle;\n",
       "    }\n",
       "\n",
       "    .dataframe tbody tr th {\n",
       "        vertical-align: top;\n",
       "    }\n",
       "\n",
       "    .dataframe thead th {\n",
       "        text-align: right;\n",
       "    }\n",
       "</style>\n",
       "<table border=\"1\" class=\"dataframe\">\n",
       "  <thead>\n",
       "    <tr style=\"text-align: right;\">\n",
       "      <th></th>\n",
       "      <th>Raw_Details</th>\n",
       "      <th>Category2</th>\n",
       "    </tr>\n",
       "  </thead>\n",
       "  <tbody>\n",
       "    <tr>\n",
       "      <th>0</th>\n",
       "      <td>Name: Ravali P \\n\\n\\n\\n                       ...</td>\n",
       "      <td>React JS Developer</td>\n",
       "    </tr>\n",
       "    <tr>\n",
       "      <th>1</th>\n",
       "      <td>SUSOVAN  BAG   \\n\\nSeeking  a  challenging  po...</td>\n",
       "      <td>React JS Developer</td>\n",
       "    </tr>\n",
       "    <tr>\n",
       "      <th>2</th>\n",
       "      <td>Kanumuru Deepak Reddy\\n\\n\\n\\n\\t\\n\\n\\n\\nCAREER ...</td>\n",
       "      <td>React JS Developer</td>\n",
       "    </tr>\n",
       "    <tr>\n",
       "      <th>3</th>\n",
       "      <td>HARIPRIYA BATTINA \\n\\nExperience as UI Develop...</td>\n",
       "      <td>React JS Developer</td>\n",
       "    </tr>\n",
       "    <tr>\n",
       "      <th>4</th>\n",
       "      <td>KAMALAKAR REDDY. A \\n\\nLinked In: https://www....</td>\n",
       "      <td>React JS Developer</td>\n",
       "    </tr>\n",
       "    <tr>\n",
       "      <th>5</th>\n",
       "      <td>Naveen Sadhu\\n\\n\\n\\n\\n\\nTitle: software develo...</td>\n",
       "      <td>React JS Developer</td>\n",
       "    </tr>\n",
       "    <tr>\n",
       "      <th>6</th>\n",
       "      <td>PRAGNYA PATTNAIK\\n\\n \\n\\n \\n\\n \\n\\n Expertise:...</td>\n",
       "      <td>React JS Developer</td>\n",
       "    </tr>\n",
       "    <tr>\n",
       "      <th>7</th>\n",
       "      <td>SARALA MADASU\\n\\nSARALA MADASU\\n\\n 204,Sri ge...</td>\n",
       "      <td>React JS Developer</td>\n",
       "    </tr>\n",
       "    <tr>\n",
       "      <th>8</th>\n",
       "      <td>Thirupathamma Balla\\n\\n\\n\\nSUMMARY:\\n\\n\\n\\n2.8...</td>\n",
       "      <td>React JS Developer</td>\n",
       "    </tr>\n",
       "    <tr>\n",
       "      <th>9</th>\n",
       "      <td>Ui-Developer/ React JS Developer \\n\\nNAME: KRI...</td>\n",
       "      <td>React JS Developer</td>\n",
       "    </tr>\n",
       "    <tr>\n",
       "      <th>10</th>\n",
       "      <td>Ui-Developer/ React JS Developer \\n\\nNAME: KRI...</td>\n",
       "      <td>React JS Developer</td>\n",
       "    </tr>\n",
       "    <tr>\n",
       "      <th>11</th>\n",
       "      <td>Kotani Durga Prasad\\n\\n\\n\\n\\n\\nObjective:\\n\\n\\...</td>\n",
       "      <td>React JS Developer</td>\n",
       "    </tr>\n",
       "    <tr>\n",
       "      <th>12</th>\n",
       "      <td>Venkatalakshmi Pedireddy\\n\\nSoftware Developer...</td>\n",
       "      <td>React JS Developer</td>\n",
       "    </tr>\n",
       "    <tr>\n",
       "      <th>13</th>\n",
       "      <td>FULLSTACK SOFTWARE DEVELOPER / WEB DEVELOPER\\n...</td>\n",
       "      <td>React JS Developer</td>\n",
       "    </tr>\n",
       "    <tr>\n",
       "      <th>14</th>\n",
       "      <td>Maryala Vinay Reddy\\n\\n\\n\\n\\tProfessional Summ...</td>\n",
       "      <td>React JS Developer</td>\n",
       "    </tr>\n",
       "    <tr>\n",
       "      <th>15</th>\n",
       "      <td>CURRICULUM VITAE\\n\\n\\n\\n\\n\\n\\n\\nAnjani Priyada...</td>\n",
       "      <td>React JS Developer</td>\n",
       "    </tr>\n",
       "    <tr>\n",
       "      <th>16</th>\n",
       "      <td>KAMBALA SAI SURENDRA   \\n\\n \\n\\n \\n\\n \\n\\n\\n\\n...</td>\n",
       "      <td>React JS Developer</td>\n",
       "    </tr>\n",
       "    <tr>\n",
       "      <th>17</th>\n",
       "      <td>MAREEDU LOKESH BABU\\n\\nPROFESSIONAL OVERVIEW\\n...</td>\n",
       "      <td>React JS Developer</td>\n",
       "    </tr>\n",
       "    <tr>\n",
       "      <th>18</th>\n",
       "      <td>MAREEDU LOKESH BABU\\n\\n\\n\\nPROFESSIONAL OVERVI...</td>\n",
       "      <td>React JS Developer</td>\n",
       "    </tr>\n",
       "    <tr>\n",
       "      <th>19</th>\n",
       "      <td>MD KHIZARUDDIN RAUF \\n\\n \\t EXPERIENCE \\n\\n   ...</td>\n",
       "      <td>React JS Developer</td>\n",
       "    </tr>\n",
       "    <tr>\n",
       "      <th>20</th>\n",
       "      <td>Name: M. Prabakaran\\n\\n\\n\\nTitle: UI Developer...</td>\n",
       "      <td>React JS Developer</td>\n",
       "    </tr>\n",
       "    <tr>\n",
       "      <th>21</th>\n",
       "      <td>Pranish Sonone\\n\\n\\t\\t\\n\\n\\n\\n\\n\\n\\n\\n\\n\\nCare...</td>\n",
       "      <td>React JS Developer</td>\n",
       "    </tr>\n",
       "    <tr>\n",
       "      <th>22</th>\n",
       "      <td>Ranga Gaganam  \\n\\n\\n\\n \\n\\nProfessional\\n\\n \\...</td>\n",
       "      <td>React JS Developer</td>\n",
       "    </tr>\n",
       "    <tr>\n",
       "      <th>23</th>\n",
       "      <td>SHAIK ABDUL SHARUK   \\n\\n2 years’ Experience i...</td>\n",
       "      <td>React JS Developer</td>\n",
       "    </tr>\n",
       "  </tbody>\n",
       "</table>\n",
       "</div>"
      ],
      "text/plain": [
       "                                          Raw_Details           Category2\n",
       "0   Name: Ravali P \\n\\n\\n\\n                       ...  React JS Developer\n",
       "1   SUSOVAN  BAG   \\n\\nSeeking  a  challenging  po...  React JS Developer\n",
       "2   Kanumuru Deepak Reddy\\n\\n\\n\\n\\t\\n\\n\\n\\nCAREER ...  React JS Developer\n",
       "3   HARIPRIYA BATTINA \\n\\nExperience as UI Develop...  React JS Developer\n",
       "4   KAMALAKAR REDDY. A \\n\\nLinked In: https://www....  React JS Developer\n",
       "5   Naveen Sadhu\\n\\n\\n\\n\\n\\nTitle: software develo...  React JS Developer\n",
       "6   PRAGNYA PATTNAIK\\n\\n \\n\\n \\n\\n \\n\\n Expertise:...  React JS Developer\n",
       "7   SARALA MADASU\\n\\nSARALA MADASU\\n\\n 204,Sri ge...  React JS Developer\n",
       "8   Thirupathamma Balla\\n\\n\\n\\nSUMMARY:\\n\\n\\n\\n2.8...  React JS Developer\n",
       "9   Ui-Developer/ React JS Developer \\n\\nNAME: KRI...  React JS Developer\n",
       "10  Ui-Developer/ React JS Developer \\n\\nNAME: KRI...  React JS Developer\n",
       "11  Kotani Durga Prasad\\n\\n\\n\\n\\n\\nObjective:\\n\\n\\...  React JS Developer\n",
       "12  Venkatalakshmi Pedireddy\\n\\nSoftware Developer...  React JS Developer\n",
       "13  FULLSTACK SOFTWARE DEVELOPER / WEB DEVELOPER\\n...  React JS Developer\n",
       "14  Maryala Vinay Reddy\\n\\n\\n\\n\\tProfessional Summ...  React JS Developer\n",
       "15  CURRICULUM VITAE\\n\\n\\n\\n\\n\\n\\n\\nAnjani Priyada...  React JS Developer\n",
       "16  KAMBALA SAI SURENDRA   \\n\\n \\n\\n \\n\\n \\n\\n\\n\\n...  React JS Developer\n",
       "17  MAREEDU LOKESH BABU\\n\\nPROFESSIONAL OVERVIEW\\n...  React JS Developer\n",
       "18  MAREEDU LOKESH BABU\\n\\n\\n\\nPROFESSIONAL OVERVI...  React JS Developer\n",
       "19  MD KHIZARUDDIN RAUF \\n\\n \\t EXPERIENCE \\n\\n   ...  React JS Developer\n",
       "20  Name: M. Prabakaran\\n\\n\\n\\nTitle: UI Developer...  React JS Developer\n",
       "21  Pranish Sonone\\n\\n\\t\\t\\n\\n\\n\\n\\n\\n\\n\\n\\n\\nCare...  React JS Developer\n",
       "22  Ranga Gaganam  \\n\\n\\n\\n \\n\\nProfessional\\n\\n \\...  React JS Developer\n",
       "23  SHAIK ABDUL SHARUK   \\n\\n2 years’ Experience i...  React JS Developer"
      ]
     },
     "execution_count": 49,
     "metadata": {},
     "output_type": "execute_result"
    }
   ],
   "source": [
    "file_path2 = []\n",
    "category2  = []\n",
    "directory2 = 'D:\\EXCEL R\\Resume_Project\\Resume\\React JS Developer'\n",
    "for i in os.listdir(directory2):\n",
    "    if i.endswith('.docx'):\n",
    "        os.path.join(directory2, i)\n",
    "        file_path2.append((textract.process(os.path.join(directory2, i))).decode('utf-8'))\n",
    "        category2.append('React JS Developer')\n",
    "data2 = pd.DataFrame(data = file_path2 , columns = ['Raw_Details'])\n",
    "data2['Category2'] = category2\n",
    "data2"
   ]
  },
  {
   "cell_type": "code",
   "execution_count": 50,
   "id": "86287d04",
   "metadata": {},
   "outputs": [
    {
     "data": {
      "text/html": [
       "<div>\n",
       "<style scoped>\n",
       "    .dataframe tbody tr th:only-of-type {\n",
       "        vertical-align: middle;\n",
       "    }\n",
       "\n",
       "    .dataframe tbody tr th {\n",
       "        vertical-align: top;\n",
       "    }\n",
       "\n",
       "    .dataframe thead th {\n",
       "        text-align: right;\n",
       "    }\n",
       "</style>\n",
       "<table border=\"1\" class=\"dataframe\">\n",
       "  <thead>\n",
       "    <tr style=\"text-align: right;\">\n",
       "      <th></th>\n",
       "      <th>Raw_Details</th>\n",
       "      <th>Category3</th>\n",
       "    </tr>\n",
       "  </thead>\n",
       "  <tbody>\n",
       "    <tr>\n",
       "      <th>0</th>\n",
       "      <td>ANIL KUMAR MADDUKURI  \\t\\t\\n\\nSQL &amp; MSBI Devel...</td>\n",
       "      <td>SQL Developer</td>\n",
       "    </tr>\n",
       "    <tr>\n",
       "      <th>1</th>\n",
       "      <td>Aradhana Tripathi\\n\\n\\n\\nCurrent Location: Gac...</td>\n",
       "      <td>SQL Developer</td>\n",
       "    </tr>\n",
       "    <tr>\n",
       "      <th>2</th>\n",
       "      <td>BUDDHA VAMSI                                  ...</td>\n",
       "      <td>SQL Developer</td>\n",
       "    </tr>\n",
       "    <tr>\n",
       "      <th>3</th>\n",
       "      <td>KAMBALLA PRADEEP                              ...</td>\n",
       "      <td>SQL Developer</td>\n",
       "    </tr>\n",
       "    <tr>\n",
       "      <th>4</th>\n",
       "      <td>Resume\\n\\nName     :  Neeraj Mishra\\n\\n\\n\\nExp...</td>\n",
       "      <td>SQL Developer</td>\n",
       "    </tr>\n",
       "    <tr>\n",
       "      <th>5</th>\n",
       "      <td>SQL DEVELOPER\\n\\nName: -   Bandi prem sai\\n\\n\\...</td>\n",
       "      <td>SQL Developer</td>\n",
       "    </tr>\n",
       "    <tr>\n",
       "      <th>6</th>\n",
       "      <td>SQL SERVER DEVELOPER\\n\\n\\n\\n\\n\\nP. Syam Kumar ...</td>\n",
       "      <td>SQL Developer</td>\n",
       "    </tr>\n",
       "    <tr>\n",
       "      <th>7</th>\n",
       "      <td>RAJU PAVANA KUMARI\\n\\n\\n\\n\\t\\n\\n\\tProfessional...</td>\n",
       "      <td>SQL Developer</td>\n",
       "    </tr>\n",
       "    <tr>\n",
       "      <th>8</th>\n",
       "      <td>resume\\n\\n\\n\\n\\n\\n\\t\\t\\t\\t\\t\\t\\t\\t\\t\\t\\t\\tRama...</td>\n",
       "      <td>SQL Developer</td>\n",
       "    </tr>\n",
       "    <tr>\n",
       "      <th>9</th>\n",
       "      <td>Name: Ramesh\\n\\n\\t\\n\\n\\tCareer Objective: \\n\\n...</td>\n",
       "      <td>SQL Developer</td>\n",
       "    </tr>\n",
       "    <tr>\n",
       "      <th>10</th>\n",
       "      <td>FULLSTACK SOFTWARE DEVELOPER / WEB DEVELOPER\\n...</td>\n",
       "      <td>SQL Developer</td>\n",
       "    </tr>\n",
       "    <tr>\n",
       "      <th>11</th>\n",
       "      <td>Maryala Vinay Reddy\\n\\n\\n\\n\\tProfessional Summ...</td>\n",
       "      <td>SQL Developer</td>\n",
       "    </tr>\n",
       "    <tr>\n",
       "      <th>12</th>\n",
       "      <td>CURRICULUM VITAE\\n\\n\\n\\n\\n\\n\\n\\nAnjani Priyada...</td>\n",
       "      <td>SQL Developer</td>\n",
       "    </tr>\n",
       "    <tr>\n",
       "      <th>13</th>\n",
       "      <td>SQL AND MSBI DEVELOPER\\n\\nSQL AND MSBI DEVELOP...</td>\n",
       "      <td>SQL Developer</td>\n",
       "    </tr>\n",
       "  </tbody>\n",
       "</table>\n",
       "</div>"
      ],
      "text/plain": [
       "                                          Raw_Details      Category3\n",
       "0   ANIL KUMAR MADDUKURI  \\t\\t\\n\\nSQL & MSBI Devel...  SQL Developer\n",
       "1   Aradhana Tripathi\\n\\n\\n\\nCurrent Location: Gac...  SQL Developer\n",
       "2   BUDDHA VAMSI                                  ...  SQL Developer\n",
       "3   KAMBALLA PRADEEP                              ...  SQL Developer\n",
       "4   Resume\\n\\nName     :  Neeraj Mishra\\n\\n\\n\\nExp...  SQL Developer\n",
       "5   SQL DEVELOPER\\n\\nName: -   Bandi prem sai\\n\\n\\...  SQL Developer\n",
       "6   SQL SERVER DEVELOPER\\n\\n\\n\\n\\n\\nP. Syam Kumar ...  SQL Developer\n",
       "7   RAJU PAVANA KUMARI\\n\\n\\n\\n\\t\\n\\n\\tProfessional...  SQL Developer\n",
       "8   resume\\n\\n\\n\\n\\n\\n\\t\\t\\t\\t\\t\\t\\t\\t\\t\\t\\t\\tRama...  SQL Developer\n",
       "9   Name: Ramesh\\n\\n\\t\\n\\n\\tCareer Objective: \\n\\n...  SQL Developer\n",
       "10  FULLSTACK SOFTWARE DEVELOPER / WEB DEVELOPER\\n...  SQL Developer\n",
       "11  Maryala Vinay Reddy\\n\\n\\n\\n\\tProfessional Summ...  SQL Developer\n",
       "12  CURRICULUM VITAE\\n\\n\\n\\n\\n\\n\\n\\nAnjani Priyada...  SQL Developer\n",
       "13  SQL AND MSBI DEVELOPER\\n\\nSQL AND MSBI DEVELOP...  SQL Developer"
      ]
     },
     "execution_count": 50,
     "metadata": {},
     "output_type": "execute_result"
    }
   ],
   "source": [
    "file_path3 = []\n",
    "category3  = []\n",
    "directory3 = 'D:\\EXCEL R\\Resume_Project\\Resume\\SQL Developer'\n",
    "for i in os.listdir(directory3):\n",
    "    if i.endswith('.docx'):\n",
    "        os.path.join(directory3, i)\n",
    "        file_path3.append((textract.process(os.path.join(directory3, i))).decode('utf-8'))\n",
    "        category3.append('SQL Developer')\n",
    "data3 = pd.DataFrame(data = file_path3 , columns = ['Raw_Details'])\n",
    "data3['Category3'] = category3\n",
    "data3"
   ]
  },
  {
   "cell_type": "code",
   "execution_count": 51,
   "id": "126b1d75",
   "metadata": {},
   "outputs": [
    {
     "data": {
      "text/html": [
       "<div>\n",
       "<style scoped>\n",
       "    .dataframe tbody tr th:only-of-type {\n",
       "        vertical-align: middle;\n",
       "    }\n",
       "\n",
       "    .dataframe tbody tr th {\n",
       "        vertical-align: top;\n",
       "    }\n",
       "\n",
       "    .dataframe thead th {\n",
       "        text-align: right;\n",
       "    }\n",
       "</style>\n",
       "<table border=\"1\" class=\"dataframe\">\n",
       "  <thead>\n",
       "    <tr style=\"text-align: right;\">\n",
       "      <th></th>\n",
       "      <th>Raw_Details</th>\n",
       "      <th>Category4</th>\n",
       "    </tr>\n",
       "  </thead>\n",
       "  <tbody>\n",
       "    <tr>\n",
       "      <th>0</th>\n",
       "      <td>Chinna Subbarayudu M\\n\\nDOB: 06th March 1994\\n...</td>\n",
       "      <td>Workday</td>\n",
       "    </tr>\n",
       "    <tr>\n",
       "      <th>1</th>\n",
       "      <td>Name         : Gopi Krishna Reddy\\n\\n\\t\\t\\t\\t ...</td>\n",
       "      <td>Workday</td>\n",
       "    </tr>\n",
       "    <tr>\n",
       "      <th>2</th>\n",
       "      <td>Hari Krishna M\\n\\n\\n\\n\\n\\nSummary:\\n\\nA result...</td>\n",
       "      <td>Workday</td>\n",
       "    </tr>\n",
       "    <tr>\n",
       "      <th>3</th>\n",
       "      <td>Harikrishna Akula                             ...</td>\n",
       "      <td>Workday</td>\n",
       "    </tr>\n",
       "    <tr>\n",
       "      <th>4</th>\n",
       "      <td>HIMA.MENDU\\n\\n\\t  \\n\\n\\n\\nCareer Objective\\n\\n...</td>\n",
       "      <td>Workday</td>\n",
       "    </tr>\n",
       "    <tr>\n",
       "      <th>5</th>\n",
       "      <td>G Himaja\\n\\n                                  ...</td>\n",
       "      <td>Workday</td>\n",
       "    </tr>\n",
       "    <tr>\n",
       "      <th>6</th>\n",
       "      <td>Name:\\tJ. Sumanth Royal.\\n\\n\\t\\n\\nPROFESSIONAL...</td>\n",
       "      <td>Workday</td>\n",
       "    </tr>\n",
       "    <tr>\n",
       "      <th>7</th>\n",
       "      <td>JYOTI VERMA\\t\\t\\t\\t\\t\\n\\n\\n\\nPROFESSIONAL SUMM...</td>\n",
       "      <td>Workday</td>\n",
       "    </tr>\n",
       "    <tr>\n",
       "      <th>8</th>\n",
       "      <td>Madeeswar A\\n\\n\\t\\n\\n\\t\\t\\n\\n\\t\\t\\tPROFILE SUM...</td>\n",
       "      <td>Workday</td>\n",
       "    </tr>\n",
       "    <tr>\n",
       "      <th>9</th>\n",
       "      <td>Mooraboyina Guravaiah\\n\\nWorkday Integration S...</td>\n",
       "      <td>Workday</td>\n",
       "    </tr>\n",
       "    <tr>\n",
       "      <th>10</th>\n",
       "      <td>Name\\t: Naresh Babu Cherukuri\\n\\n\\n\\nObjective...</td>\n",
       "      <td>Workday</td>\n",
       "    </tr>\n",
       "    <tr>\n",
       "      <th>11</th>\n",
       "      <td>VENKATA SAIKRISHNA\\n\\n Workday Consultant\\n\\n\\...</td>\n",
       "      <td>Workday</td>\n",
       "    </tr>\n",
       "    <tr>\n",
       "      <th>12</th>\n",
       "      <td>Punugoti Swetha\\n\\nWorkday Technical Consultan...</td>\n",
       "      <td>Workday</td>\n",
       "    </tr>\n",
       "    <tr>\n",
       "      <th>13</th>\n",
       "      <td>Workday HCM  Techno functional Consultant     ...</td>\n",
       "      <td>Workday</td>\n",
       "    </tr>\n",
       "    <tr>\n",
       "      <th>14</th>\n",
       "      <td>Ramesh A\\t\\t\\t\\t\\t\\t\\t\\t\\t\\t\\t\\t\\t\\t\\t\\t\\t\\t\\t...</td>\n",
       "      <td>Workday</td>\n",
       "    </tr>\n",
       "    <tr>\n",
       "      <th>15</th>\n",
       "      <td>Shireesh Balasani                             ...</td>\n",
       "      <td>Workday</td>\n",
       "    </tr>\n",
       "    <tr>\n",
       "      <th>16</th>\n",
       "      <td>Workday Integration Consultant\\n\\n\\n\\nName    ...</td>\n",
       "      <td>Workday</td>\n",
       "    </tr>\n",
       "    <tr>\n",
       "      <th>17</th>\n",
       "      <td>Srikanth (WORKDAY hCM Consultant)\\t           ...</td>\n",
       "      <td>Workday</td>\n",
       "    </tr>\n",
       "    <tr>\n",
       "      <th>18</th>\n",
       "      <td>WORKDAY | HCM | FCM\\n\\nName \\t\\t: Kumar S.S\\n\\...</td>\n",
       "      <td>Workday</td>\n",
       "    </tr>\n",
       "    <tr>\n",
       "      <th>19</th>\n",
       "      <td>Venkateswarlu.B\\t\\t\\t\\t\\t\\t\\t\\tWorkday Consult...</td>\n",
       "      <td>Workday</td>\n",
       "    </tr>\n",
       "    <tr>\n",
       "      <th>20</th>\n",
       "      <td>Vinay kumar .v\\nWorkday Functional Consultant\\...</td>\n",
       "      <td>Workday</td>\n",
       "    </tr>\n",
       "  </tbody>\n",
       "</table>\n",
       "</div>"
      ],
      "text/plain": [
       "                                          Raw_Details Category4\n",
       "0   Chinna Subbarayudu M\\n\\nDOB: 06th March 1994\\n...   Workday\n",
       "1   Name         : Gopi Krishna Reddy\\n\\n\\t\\t\\t\\t ...   Workday\n",
       "2   Hari Krishna M\\n\\n\\n\\n\\n\\nSummary:\\n\\nA result...   Workday\n",
       "3   Harikrishna Akula                             ...   Workday\n",
       "4   HIMA.MENDU\\n\\n\\t  \\n\\n\\n\\nCareer Objective\\n\\n...   Workday\n",
       "5   G Himaja\\n\\n                                  ...   Workday\n",
       "6   Name:\\tJ. Sumanth Royal.\\n\\n\\t\\n\\nPROFESSIONAL...   Workday\n",
       "7   JYOTI VERMA\\t\\t\\t\\t\\t\\n\\n\\n\\nPROFESSIONAL SUMM...   Workday\n",
       "8   Madeeswar A\\n\\n\\t\\n\\n\\t\\t\\n\\n\\t\\t\\tPROFILE SUM...   Workday\n",
       "9   Mooraboyina Guravaiah\\n\\nWorkday Integration S...   Workday\n",
       "10  Name\\t: Naresh Babu Cherukuri\\n\\n\\n\\nObjective...   Workday\n",
       "11  VENKATA SAIKRISHNA\\n\\n Workday Consultant\\n\\n\\...   Workday\n",
       "12  Punugoti Swetha\\n\\nWorkday Technical Consultan...   Workday\n",
       "13  Workday HCM  Techno functional Consultant     ...   Workday\n",
       "14  Ramesh A\\t\\t\\t\\t\\t\\t\\t\\t\\t\\t\\t\\t\\t\\t\\t\\t\\t\\t\\t...   Workday\n",
       "15  Shireesh Balasani                             ...   Workday\n",
       "16  Workday Integration Consultant\\n\\n\\n\\nName    ...   Workday\n",
       "17  Srikanth (WORKDAY hCM Consultant)\\t           ...   Workday\n",
       "18  WORKDAY | HCM | FCM\\n\\nName \\t\\t: Kumar S.S\\n\\...   Workday\n",
       "19  Venkateswarlu.B\\t\\t\\t\\t\\t\\t\\t\\tWorkday Consult...   Workday\n",
       "20  Vinay kumar .v\\nWorkday Functional Consultant\\...   Workday"
      ]
     },
     "execution_count": 51,
     "metadata": {},
     "output_type": "execute_result"
    }
   ],
   "source": [
    "file_path4 = []\n",
    "category4  = []\n",
    "directory4 = 'D:\\EXCEL R\\Resume_Project\\Resume\\Workday'\n",
    "for i in os.listdir(directory4):\n",
    "    if i.endswith('.docx'):\n",
    "        os.path.join(directory4, i)\n",
    "        file_path4.append((textract.process(os.path.join(directory4, i))).decode('utf-8'))\n",
    "        category4.append('Workday')\n",
    "data4 = pd.DataFrame(data = file_path4 , columns = ['Raw_Details'])\n",
    "data4['Category4'] = category4\n",
    "data4"
   ]
  },
  {
   "cell_type": "code",
   "execution_count": 52,
   "id": "14e8fd51",
   "metadata": {},
   "outputs": [
    {
     "data": {
      "text/html": [
       "<div>\n",
       "<style scoped>\n",
       "    .dataframe tbody tr th:only-of-type {\n",
       "        vertical-align: middle;\n",
       "    }\n",
       "\n",
       "    .dataframe tbody tr th {\n",
       "        vertical-align: top;\n",
       "    }\n",
       "\n",
       "    .dataframe thead th {\n",
       "        text-align: right;\n",
       "    }\n",
       "</style>\n",
       "<table border=\"1\" class=\"dataframe\">\n",
       "  <thead>\n",
       "    <tr style=\"text-align: right;\">\n",
       "      <th></th>\n",
       "      <th>Raw_Details</th>\n",
       "      <th>Category1</th>\n",
       "      <th>Category2</th>\n",
       "      <th>Category3</th>\n",
       "      <th>Category4</th>\n",
       "    </tr>\n",
       "  </thead>\n",
       "  <tbody>\n",
       "    <tr>\n",
       "      <th>0</th>\n",
       "      <td>Anubhav Kumar Singh\\t\\t\\n\\n\\n\\nCore Competenci...</td>\n",
       "      <td>PeopleSoft</td>\n",
       "      <td>NaN</td>\n",
       "      <td>NaN</td>\n",
       "      <td>NaN</td>\n",
       "    </tr>\n",
       "    <tr>\n",
       "      <th>1</th>\n",
       "      <td>G. Ananda Rayudu \\n\\n\\t\\t       https://www.li...</td>\n",
       "      <td>PeopleSoft</td>\n",
       "      <td>NaN</td>\n",
       "      <td>NaN</td>\n",
       "      <td>NaN</td>\n",
       "    </tr>\n",
       "    <tr>\n",
       "      <th>2</th>\n",
       "      <td>PeopleSoft Database Administrator\\n\\n         ...</td>\n",
       "      <td>PeopleSoft</td>\n",
       "      <td>NaN</td>\n",
       "      <td>NaN</td>\n",
       "      <td>NaN</td>\n",
       "    </tr>\n",
       "    <tr>\n",
       "      <th>3</th>\n",
       "      <td>Classification: Internal\\n\\nClassification: In...</td>\n",
       "      <td>PeopleSoft</td>\n",
       "      <td>NaN</td>\n",
       "      <td>NaN</td>\n",
       "      <td>NaN</td>\n",
       "    </tr>\n",
       "    <tr>\n",
       "      <th>4</th>\n",
       "      <td>Priyanka Ramadoss\\n\\n\\t61/46, MountPleasant, \\...</td>\n",
       "      <td>PeopleSoft</td>\n",
       "      <td>NaN</td>\n",
       "      <td>NaN</td>\n",
       "      <td>NaN</td>\n",
       "    </tr>\n",
       "    <tr>\n",
       "      <th>...</th>\n",
       "      <td>...</td>\n",
       "      <td>...</td>\n",
       "      <td>...</td>\n",
       "      <td>...</td>\n",
       "      <td>...</td>\n",
       "    </tr>\n",
       "    <tr>\n",
       "      <th>74</th>\n",
       "      <td>Workday Integration Consultant\\n\\n\\n\\nName    ...</td>\n",
       "      <td>NaN</td>\n",
       "      <td>NaN</td>\n",
       "      <td>NaN</td>\n",
       "      <td>Workday</td>\n",
       "    </tr>\n",
       "    <tr>\n",
       "      <th>75</th>\n",
       "      <td>Srikanth (WORKDAY hCM Consultant)\\t           ...</td>\n",
       "      <td>NaN</td>\n",
       "      <td>NaN</td>\n",
       "      <td>NaN</td>\n",
       "      <td>Workday</td>\n",
       "    </tr>\n",
       "    <tr>\n",
       "      <th>76</th>\n",
       "      <td>WORKDAY | HCM | FCM\\n\\nName \\t\\t: Kumar S.S\\n\\...</td>\n",
       "      <td>NaN</td>\n",
       "      <td>NaN</td>\n",
       "      <td>NaN</td>\n",
       "      <td>Workday</td>\n",
       "    </tr>\n",
       "    <tr>\n",
       "      <th>77</th>\n",
       "      <td>Venkateswarlu.B\\t\\t\\t\\t\\t\\t\\t\\tWorkday Consult...</td>\n",
       "      <td>NaN</td>\n",
       "      <td>NaN</td>\n",
       "      <td>NaN</td>\n",
       "      <td>Workday</td>\n",
       "    </tr>\n",
       "    <tr>\n",
       "      <th>78</th>\n",
       "      <td>Vinay kumar .v\\nWorkday Functional Consultant\\...</td>\n",
       "      <td>NaN</td>\n",
       "      <td>NaN</td>\n",
       "      <td>NaN</td>\n",
       "      <td>Workday</td>\n",
       "    </tr>\n",
       "  </tbody>\n",
       "</table>\n",
       "<p>79 rows × 5 columns</p>\n",
       "</div>"
      ],
      "text/plain": [
       "                                          Raw_Details   Category1 Category2  \\\n",
       "0   Anubhav Kumar Singh\\t\\t\\n\\n\\n\\nCore Competenci...  PeopleSoft       NaN   \n",
       "1   G. Ananda Rayudu \\n\\n\\t\\t       https://www.li...  PeopleSoft       NaN   \n",
       "2   PeopleSoft Database Administrator\\n\\n         ...  PeopleSoft       NaN   \n",
       "3   Classification: Internal\\n\\nClassification: In...  PeopleSoft       NaN   \n",
       "4   Priyanka Ramadoss\\n\\n\\t61/46, MountPleasant, \\...  PeopleSoft       NaN   \n",
       "..                                                ...         ...       ...   \n",
       "74  Workday Integration Consultant\\n\\n\\n\\nName    ...         NaN       NaN   \n",
       "75  Srikanth (WORKDAY hCM Consultant)\\t           ...         NaN       NaN   \n",
       "76  WORKDAY | HCM | FCM\\n\\nName \\t\\t: Kumar S.S\\n\\...         NaN       NaN   \n",
       "77  Venkateswarlu.B\\t\\t\\t\\t\\t\\t\\t\\tWorkday Consult...         NaN       NaN   \n",
       "78  Vinay kumar .v\\nWorkday Functional Consultant\\...         NaN       NaN   \n",
       "\n",
       "   Category3 Category4  \n",
       "0        NaN       NaN  \n",
       "1        NaN       NaN  \n",
       "2        NaN       NaN  \n",
       "3        NaN       NaN  \n",
       "4        NaN       NaN  \n",
       "..       ...       ...  \n",
       "74       NaN   Workday  \n",
       "75       NaN   Workday  \n",
       "76       NaN   Workday  \n",
       "77       NaN   Workday  \n",
       "78       NaN   Workday  \n",
       "\n",
       "[79 rows x 5 columns]"
      ]
     },
     "execution_count": 52,
     "metadata": {},
     "output_type": "execute_result"
    }
   ],
   "source": [
    "resume_data = data1.append([data2, data3, data4], ignore_index = True)\n",
    "resume_data"
   ]
  },
  {
   "cell_type": "code",
   "execution_count": 53,
   "id": "4835e680",
   "metadata": {},
   "outputs": [
    {
     "data": {
      "text/html": [
       "<div>\n",
       "<style scoped>\n",
       "    .dataframe tbody tr th:only-of-type {\n",
       "        vertical-align: middle;\n",
       "    }\n",
       "\n",
       "    .dataframe tbody tr th {\n",
       "        vertical-align: top;\n",
       "    }\n",
       "\n",
       "    .dataframe thead th {\n",
       "        text-align: right;\n",
       "    }\n",
       "</style>\n",
       "<table border=\"1\" class=\"dataframe\">\n",
       "  <thead>\n",
       "    <tr style=\"text-align: right;\">\n",
       "      <th></th>\n",
       "      <th>Raw_Details</th>\n",
       "      <th>Category1</th>\n",
       "      <th>Category2</th>\n",
       "      <th>Category3</th>\n",
       "      <th>Category4</th>\n",
       "      <th>Category</th>\n",
       "    </tr>\n",
       "  </thead>\n",
       "  <tbody>\n",
       "    <tr>\n",
       "      <th>0</th>\n",
       "      <td>Anubhav Kumar Singh\\t\\t\\n\\n\\n\\nCore Competenci...</td>\n",
       "      <td>PeopleSoft</td>\n",
       "      <td>NaN</td>\n",
       "      <td>NaN</td>\n",
       "      <td>NaN</td>\n",
       "      <td>PeopleSoft</td>\n",
       "    </tr>\n",
       "    <tr>\n",
       "      <th>1</th>\n",
       "      <td>G. Ananda Rayudu \\n\\n\\t\\t       https://www.li...</td>\n",
       "      <td>PeopleSoft</td>\n",
       "      <td>NaN</td>\n",
       "      <td>NaN</td>\n",
       "      <td>NaN</td>\n",
       "      <td>PeopleSoft</td>\n",
       "    </tr>\n",
       "    <tr>\n",
       "      <th>2</th>\n",
       "      <td>PeopleSoft Database Administrator\\n\\n         ...</td>\n",
       "      <td>PeopleSoft</td>\n",
       "      <td>NaN</td>\n",
       "      <td>NaN</td>\n",
       "      <td>NaN</td>\n",
       "      <td>PeopleSoft</td>\n",
       "    </tr>\n",
       "    <tr>\n",
       "      <th>3</th>\n",
       "      <td>Classification: Internal\\n\\nClassification: In...</td>\n",
       "      <td>PeopleSoft</td>\n",
       "      <td>NaN</td>\n",
       "      <td>NaN</td>\n",
       "      <td>NaN</td>\n",
       "      <td>PeopleSoft</td>\n",
       "    </tr>\n",
       "    <tr>\n",
       "      <th>4</th>\n",
       "      <td>Priyanka Ramadoss\\n\\n\\t61/46, MountPleasant, \\...</td>\n",
       "      <td>PeopleSoft</td>\n",
       "      <td>NaN</td>\n",
       "      <td>NaN</td>\n",
       "      <td>NaN</td>\n",
       "      <td>PeopleSoft</td>\n",
       "    </tr>\n",
       "    <tr>\n",
       "      <th>...</th>\n",
       "      <td>...</td>\n",
       "      <td>...</td>\n",
       "      <td>...</td>\n",
       "      <td>...</td>\n",
       "      <td>...</td>\n",
       "      <td>...</td>\n",
       "    </tr>\n",
       "    <tr>\n",
       "      <th>74</th>\n",
       "      <td>Workday Integration Consultant\\n\\n\\n\\nName    ...</td>\n",
       "      <td>NaN</td>\n",
       "      <td>NaN</td>\n",
       "      <td>NaN</td>\n",
       "      <td>Workday</td>\n",
       "      <td>Workday</td>\n",
       "    </tr>\n",
       "    <tr>\n",
       "      <th>75</th>\n",
       "      <td>Srikanth (WORKDAY hCM Consultant)\\t           ...</td>\n",
       "      <td>NaN</td>\n",
       "      <td>NaN</td>\n",
       "      <td>NaN</td>\n",
       "      <td>Workday</td>\n",
       "      <td>Workday</td>\n",
       "    </tr>\n",
       "    <tr>\n",
       "      <th>76</th>\n",
       "      <td>WORKDAY | HCM | FCM\\n\\nName \\t\\t: Kumar S.S\\n\\...</td>\n",
       "      <td>NaN</td>\n",
       "      <td>NaN</td>\n",
       "      <td>NaN</td>\n",
       "      <td>Workday</td>\n",
       "      <td>Workday</td>\n",
       "    </tr>\n",
       "    <tr>\n",
       "      <th>77</th>\n",
       "      <td>Venkateswarlu.B\\t\\t\\t\\t\\t\\t\\t\\tWorkday Consult...</td>\n",
       "      <td>NaN</td>\n",
       "      <td>NaN</td>\n",
       "      <td>NaN</td>\n",
       "      <td>Workday</td>\n",
       "      <td>Workday</td>\n",
       "    </tr>\n",
       "    <tr>\n",
       "      <th>78</th>\n",
       "      <td>Vinay kumar .v\\nWorkday Functional Consultant\\...</td>\n",
       "      <td>NaN</td>\n",
       "      <td>NaN</td>\n",
       "      <td>NaN</td>\n",
       "      <td>Workday</td>\n",
       "      <td>Workday</td>\n",
       "    </tr>\n",
       "  </tbody>\n",
       "</table>\n",
       "<p>79 rows × 6 columns</p>\n",
       "</div>"
      ],
      "text/plain": [
       "                                          Raw_Details   Category1 Category2  \\\n",
       "0   Anubhav Kumar Singh\\t\\t\\n\\n\\n\\nCore Competenci...  PeopleSoft       NaN   \n",
       "1   G. Ananda Rayudu \\n\\n\\t\\t       https://www.li...  PeopleSoft       NaN   \n",
       "2   PeopleSoft Database Administrator\\n\\n         ...  PeopleSoft       NaN   \n",
       "3   Classification: Internal\\n\\nClassification: In...  PeopleSoft       NaN   \n",
       "4   Priyanka Ramadoss\\n\\n\\t61/46, MountPleasant, \\...  PeopleSoft       NaN   \n",
       "..                                                ...         ...       ...   \n",
       "74  Workday Integration Consultant\\n\\n\\n\\nName    ...         NaN       NaN   \n",
       "75  Srikanth (WORKDAY hCM Consultant)\\t           ...         NaN       NaN   \n",
       "76  WORKDAY | HCM | FCM\\n\\nName \\t\\t: Kumar S.S\\n\\...         NaN       NaN   \n",
       "77  Venkateswarlu.B\\t\\t\\t\\t\\t\\t\\t\\tWorkday Consult...         NaN       NaN   \n",
       "78  Vinay kumar .v\\nWorkday Functional Consultant\\...         NaN       NaN   \n",
       "\n",
       "   Category3 Category4    Category  \n",
       "0        NaN       NaN  PeopleSoft  \n",
       "1        NaN       NaN  PeopleSoft  \n",
       "2        NaN       NaN  PeopleSoft  \n",
       "3        NaN       NaN  PeopleSoft  \n",
       "4        NaN       NaN  PeopleSoft  \n",
       "..       ...       ...         ...  \n",
       "74       NaN   Workday     Workday  \n",
       "75       NaN   Workday     Workday  \n",
       "76       NaN   Workday     Workday  \n",
       "77       NaN   Workday     Workday  \n",
       "78       NaN   Workday     Workday  \n",
       "\n",
       "[79 rows x 6 columns]"
      ]
     },
     "execution_count": 53,
     "metadata": {},
     "output_type": "execute_result"
    }
   ],
   "source": [
    "resume_data['Category'] = category1 + category2 + category3 + category4\n",
    "resume_data"
   ]
  },
  {
   "cell_type": "code",
   "execution_count": 54,
   "id": "2ad491cc",
   "metadata": {},
   "outputs": [],
   "source": [
    "resume_data.drop(['Category1', 'Category2', 'Category3', 'Category4'], axis = 1, inplace = True)\n",
    "resume_data = resume_data[[\"Category\", \"Raw_Details\"]]\n"
   ]
  },
  {
   "cell_type": "code",
   "execution_count": 55,
   "id": "89c04cac",
   "metadata": {},
   "outputs": [
    {
     "data": {
      "text/html": [
       "<div>\n",
       "<style scoped>\n",
       "    .dataframe tbody tr th:only-of-type {\n",
       "        vertical-align: middle;\n",
       "    }\n",
       "\n",
       "    .dataframe tbody tr th {\n",
       "        vertical-align: top;\n",
       "    }\n",
       "\n",
       "    .dataframe thead th {\n",
       "        text-align: right;\n",
       "    }\n",
       "</style>\n",
       "<table border=\"1\" class=\"dataframe\">\n",
       "  <thead>\n",
       "    <tr style=\"text-align: right;\">\n",
       "      <th></th>\n",
       "      <th>Category</th>\n",
       "      <th>Raw_Details</th>\n",
       "    </tr>\n",
       "  </thead>\n",
       "  <tbody>\n",
       "    <tr>\n",
       "      <th>0</th>\n",
       "      <td>PeopleSoft</td>\n",
       "      <td>Anubhav Kumar Singh\\t\\t\\n\\n\\n\\nCore Competenci...</td>\n",
       "    </tr>\n",
       "    <tr>\n",
       "      <th>1</th>\n",
       "      <td>PeopleSoft</td>\n",
       "      <td>G. Ananda Rayudu \\n\\n\\t\\t       https://www.li...</td>\n",
       "    </tr>\n",
       "    <tr>\n",
       "      <th>2</th>\n",
       "      <td>PeopleSoft</td>\n",
       "      <td>PeopleSoft Database Administrator\\n\\n         ...</td>\n",
       "    </tr>\n",
       "    <tr>\n",
       "      <th>3</th>\n",
       "      <td>PeopleSoft</td>\n",
       "      <td>Classification: Internal\\n\\nClassification: In...</td>\n",
       "    </tr>\n",
       "    <tr>\n",
       "      <th>4</th>\n",
       "      <td>PeopleSoft</td>\n",
       "      <td>Priyanka Ramadoss\\n\\n\\t61/46, MountPleasant, \\...</td>\n",
       "    </tr>\n",
       "    <tr>\n",
       "      <th>...</th>\n",
       "      <td>...</td>\n",
       "      <td>...</td>\n",
       "    </tr>\n",
       "    <tr>\n",
       "      <th>74</th>\n",
       "      <td>Workday</td>\n",
       "      <td>Workday Integration Consultant\\n\\n\\n\\nName    ...</td>\n",
       "    </tr>\n",
       "    <tr>\n",
       "      <th>75</th>\n",
       "      <td>Workday</td>\n",
       "      <td>Srikanth (WORKDAY hCM Consultant)\\t           ...</td>\n",
       "    </tr>\n",
       "    <tr>\n",
       "      <th>76</th>\n",
       "      <td>Workday</td>\n",
       "      <td>WORKDAY | HCM | FCM\\n\\nName \\t\\t: Kumar S.S\\n\\...</td>\n",
       "    </tr>\n",
       "    <tr>\n",
       "      <th>77</th>\n",
       "      <td>Workday</td>\n",
       "      <td>Venkateswarlu.B\\t\\t\\t\\t\\t\\t\\t\\tWorkday Consult...</td>\n",
       "    </tr>\n",
       "    <tr>\n",
       "      <th>78</th>\n",
       "      <td>Workday</td>\n",
       "      <td>Vinay kumar .v\\nWorkday Functional Consultant\\...</td>\n",
       "    </tr>\n",
       "  </tbody>\n",
       "</table>\n",
       "<p>79 rows × 2 columns</p>\n",
       "</div>"
      ],
      "text/plain": [
       "      Category                                        Raw_Details\n",
       "0   PeopleSoft  Anubhav Kumar Singh\\t\\t\\n\\n\\n\\nCore Competenci...\n",
       "1   PeopleSoft  G. Ananda Rayudu \\n\\n\\t\\t       https://www.li...\n",
       "2   PeopleSoft  PeopleSoft Database Administrator\\n\\n         ...\n",
       "3   PeopleSoft  Classification: Internal\\n\\nClassification: In...\n",
       "4   PeopleSoft  Priyanka Ramadoss\\n\\n\\t61/46, MountPleasant, \\...\n",
       "..         ...                                                ...\n",
       "74     Workday  Workday Integration Consultant\\n\\n\\n\\nName    ...\n",
       "75     Workday  Srikanth (WORKDAY hCM Consultant)\\t           ...\n",
       "76     Workday  WORKDAY | HCM | FCM\\n\\nName \\t\\t: Kumar S.S\\n\\...\n",
       "77     Workday  Venkateswarlu.B\\t\\t\\t\\t\\t\\t\\t\\tWorkday Consult...\n",
       "78     Workday  Vinay kumar .v\\nWorkday Functional Consultant\\...\n",
       "\n",
       "[79 rows x 2 columns]"
      ]
     },
     "execution_count": 55,
     "metadata": {},
     "output_type": "execute_result"
    }
   ],
   "source": [
    "resume_data"
   ]
  },
  {
   "cell_type": "code",
   "execution_count": 56,
   "id": "a27e7583",
   "metadata": {},
   "outputs": [
    {
     "data": {
      "text/plain": [
       "'Vinod Akkala                                                              \\n\\nPeopleSoft DBA Admin.                                                        \\n\\n\\n\\nProfessional Summary:\\n\\n\\n\\nHaving 7+years of experience in PeopleSoft Admin/Dba implementation and Supporting PeopleSoft applications Like HCM/FSCM modules on Oracle Database and their supporting operating systems. \\n\\nImplementing PeopleSoft Internet architecture(PIA) on Demo,Dev,Test,Production Instances.\\n\\nExperience in configuration of Application Server Domains and Process Scheduler Setup.\\n\\nPerformed Installation, configuration and maintained Oracle 10g/11g/12C databases on UNIX, Linux and NT Servers.\\n\\nExperience in Project Migration and Data Migration.\\n\\nExperience in generating Compare Reports between various environments.\\n\\nWorked on applying Patches, Bundles and Tax Updates.\\n\\nConfiguring Change Assistant to apply Bundles and Tax updates.\\n\\nMaintaining integrity and internal consistency of the database using DDDAUDIT, SYSAUDIT, ALTERAUDIT reports periodically.\\n\\nExperienced in Integration Broker setup.\\n\\nWorked on applying Patches, Bundles and Tax Updates using Change Assistant and PeopleSoft Update Manager (PUM).\\n\\nExperience on  People Tools Upgrade.\\n\\nExperience on IB.\\n\\nExperience on PeopleSoft Refreshes.\\n\\nExperience on PeopleSoft Security.\\n\\nExperienced in COBOL Compilation on Windows and Linux.\\n\\nExperience in load balancing of Application server domains and Process Scheduler Server domains.\\n\\nInstalled People Books and configured the Web Server to access People Books.\\n\\nExperience in Troubleshooting of various servers like Application Servers, Web Servers, and Process Scheduler Servers.\\n\\nInvolved in Regular Backup/Recovery of Oracle Database including Logical & Physical Backups.\\n\\nExperience in Applying Database Patches.\\n\\nWorking on Capacity Planning For Table Spaces.\\n\\nExperience in Applying Database Upgrading.\\n\\nExperience in installing, maintaining, Upgrading, Migrating and Patching Oracle versions 10g/11g/12c.\\n\\nExperience in Database refreshes.\\n\\nExperience on Linux Admin.\\n\\nExperience in Rman configuration.\\n\\nExperience in Database Security Management: Users, Roles, Profile.\\n\\nTaking Hot and cold Backups.\\n\\nExperience in resolving developer issues like Resetting Passwords.\\n\\nSupporting role in Database Cloning.\\n\\nManaging the size and file of the Table spaces and adding Data files to Table Spaces.\\n\\nExperience in multiplexing of Control files.\\n\\nExperience in Data pump Technology.\\n\\nExperience in Tuning of Application Server Domains, Process Scheduler Domains and Web Server Domains.\\n\\n\\n\\nKEY SKILS\\n\\n\\n\\n                  TECHNOLOGY\\n\\n                  TOOLS\\n\\nERP TOOLS\\n\\nPeopleTools8.54/8.53/8.50,ChangeAssistant, IntegrationBroker, ApplicationDesigner,Configuration Manager, PeopleSoft Update Manager (PUM), and Data Mover.\\n\\nAPPLICATIONS\\n\\nPeopleSoft HRMS/FSCM/CRM 9.0/9.1/9.2\\n\\nAPPLICATION SERVER\\n\\nTuxedo 10.3./12c \\n\\nWEB SERVER\\n\\nWeb Logic 10.3/12c\\n\\nOPERATING SYSTEMS\\n\\nWindows Server 2012 R2/2008 R2/2003\\n\\nRed hat Enterprise Linux 5/6\\n\\nOracle Enterprise Linux 5.4/6/7\\n\\nDATABASE\\n\\nOracle 10gR2/11gR2/12c\\n\\n\\n\\n\\n\\nEDUCATIONAL QUALIFICATION\\n\\n\\n\\nM.ca.(Masterof Computer Application) from Sri Venkateswara University, Tirupati in 2012 with (75%), Andhra Pradesh.\\n\\n\\n\\n\\n\\n\\n\\nPROFESSIONAL EXPERIENCE\\n\\n\\t\\n\\n\\tWorking as PeopleSoft Database Administrator with Infosys  At Bangalore from May 2020 to Till Date (Parent Company-Gem Source India).\\n\\n\\tWorking as PeopleSoft Database Administrator with Sify Technologies At Bangalore from Oct 2019 to April 2020.\\n\\n\\tWorked as PeopleSoft Database Administrator with Wipro Technologies At Bangalore from Oct 2018 to Oct 2019.\\n\\n\\tWorked as PeopleSoft Administrator/ PeopleSoft DBA with Sonata Software Bangalore from June 2016 to August 2018.\\n\\n\\tWorked as a PeopleSoft DBA with, MoonStone Infotech Pvt.Ltd Hyderabad from Nov 2013 to May 2016\\n\\n\\t\\n\\n\\t\\n\\n\\t\\n\\n\\t\\n\\nRELEVENT EXPERIENCE                                                                       May 2020- Till Date\\n\\n\\t\\n\\nProject\\n\\n\\n\\nPeopleSoft Admin Support\\n\\nClient\\n\\n\\t\\tGoldman Sach\\n\\nDuration\\n\\n\\t\\tMay 2020-Till Date\\n\\nRole\\n\\n\\t\\tPeopleSoft Database Admin.\\n\\nEnvironment\\n\\nApplication Version:  HRMS,FSCM 9.2 , 8.9\\n\\nPeople Tools Version: PT 8.56, PT 8.53 Database: Oracle 12c\\n\\n\\t\\n\\nSupporting FSCM,HRMS Application as PeopleSoft DBA on 24*7 basis.\\n\\nPeopleSoft Database Administrator supporting FSCM,HRMS environments maintained on Oracle 12c,11g.\\n\\nPeopleSoft DBA supporting\\xa0HRMS,FSCM 9.2 , 8.9 environments maintained on RHEL 4 and Oracle 12c 11g. PeopleSoft Internet Architecture (PIA) including UNIX file systems, application servers, web servers and batch servers.\\n\\nMigration of all PeopleSoft projects to DEV, TEST, PROD instances.\\n\\nAnalysis of production issues raised by clients and providing solutions.\\n\\nExecuting DDD Audit and SYS Audit and ALTER Audits.\\n\\nGenerating Compare Reports..\\n\\nExperience on PeopleTools Patches.\\n\\nExperience on Tools upgrade.\\n\\nExperience on Certificates.\\n\\nExperience on PeopleSoft Refreshes.\\n\\nExperience on IB.\\n\\nExperience on PUM.\\n\\nSetting up report nodes and checking their posting status.\\n\\nExperience on PeopleSoft Security.\\n\\nExperience on Disk Space issues.\\n\\nConfiguring and monitoring Process Scheduler and troubleshooting various issues related.\\n\\nInvolved in the Performance of the databases and application by creating multiple domains across the instances.\\n\\nTroubleshooting Tuxedo Application Server, Process Scheduler & Web Server.\\n\\nDatabase Administration, Performance Tuning and support for the database requirements.\\n\\nCreating database users and by setting the default temporary Table spaces and assigning quotas, roles, privileges, and profiles to users.\\n\\nTaking logical backups and logical incremental backups.\\n\\nTaking exp/imp backups\\n\\nTaking cold backups and hot backups.\\n\\nExperience in multiplexing of control files.\\n\\nInvolving in performance tuning.\\n\\nExperience in Datapump Technology.\\n\\nCreate and Managing Database Users, Roles, Profiles and Granting Permissions.\\n\\nChecking log file for any database errors.\\n\\nChecking alter log files and trace files.\\n\\nPerforming database refreshing.\\n\\nLoad balancing of Application server &Webserver \\n\\nInstalled and Configured Change Assistant to apply PUM image.\\n\\n\\n\\n\\t\\n\\n\\t\\n\\nRELEVENT EXPERIENCE                                                                       Oct 2019- April2020\\n\\n\\t\\n\\n\\t\\n\\nProject\\n\\n\\n\\nPeopleSoft Admin Support\\n\\nClient\\n\\n\\t\\tPPS, MCC, ARP, and CoT\\n\\nDuration\\n\\n\\t\\tOct 2019-April 2020\\n\\nRole\\n\\n\\t\\tPeopleSoft Database Admin.\\n\\nEnvironment\\n\\nApplication Version: HRMS 9.2, FSCM 9.2\\n\\nPeople Tools Version: PT 8.56,PT8.53 Database: Oracle 12c\\n\\n\\t\\n\\nSupporting HCM and FSCM Application as PeopleSoft DBA on 24*7 basis.\\n\\nPeopleSoft Database Administrator supporting HCM environments maintained on Oracle 10g.\\n\\nPeopleSoft DBA supporting\\xa0HCM 9.1 environments maintained on RHEL 4 and Oracle 10g. PeopleSoft Internet Architecture (PIA) including UNIX file systems, application servers, web servers and batch servers.\\n\\nMigration of all PeopleSoft projects to DEV, TEST, PROD instances.\\n\\nAnalysis of production issues raised by clients and providing solutions.\\n\\nExecuting DDD Audit and SYS Audit and ALTER Audits.\\n\\nGenerating Compare Reports.\\n\\nRman configuration for backup.\\n\\nConfiguring and monitoring Process Scheduler and troubleshooting various issues related.\\n\\nInvolved in the Performance of the databases and application by creating multiple domains across the instances.\\n\\nTroubleshooting Tuxedo Application Server, Process Scheduler & Web Server.\\n\\nDatabase Administration, Performance Tuning and support for the database requirements.\\n\\nCreating database users and by setting the default temporary Table spaces and assigning quotas, roles, privileges, and profiles to users.\\n\\nTaking logical backups and logical incremental backups.\\n\\nTaking exp/imp backups\\n\\nTaking cold backups and hot backups.\\n\\nExperience in multiplexing of control files.\\n\\nInvolving in performance tuning.\\n\\nExperience on PeopleSoft Refreshes.\\n\\nExperience in Datapump Technology.\\n\\nCreate and Managing Database Users, Roles, Profiles and Granting Permissions.\\n\\nChecking log file for any database errors.\\n\\nChecking alter log files and trace files.\\n\\nPerforming database refreshing.\\n\\nLoad balancing of Application server &WebserverPerformed Database Refreshes, Imports, Exports and Backups.\\n\\nInstalled and Configured Change Assistant to apply PUM image.\\n\\n\\n\\n\\t\\n\\n\\t\\n\\n\\t\\n\\n\\t\\n\\n\\n\\nRELEVENTEXPERIENCE                                                                       Oct 2018-Oct 2019\\n\\n\\t\\n\\nProject\\n\\n\\n\\nPeopleSoft Admin Support\\n\\nClient\\n\\n\\t\\tNABARD\\n\\nDuration\\n\\n\\t\\tOct 2018-Till Date\\n\\nRole\\n\\n\\t\\tPeopleSoft Database Admin.\\n\\nEnvironment\\n\\nApplication Version: HRMS 9.2, FSCM 9.2\\n\\nPeople Tools Version: PT 8.54,PT8.55 Database:Oracle 12c\\n\\n\\n\\n\\n\\nRoles and Responsibilities:\\n\\nExperience in installing, maintaining, Upgrading, Migrating and Patching Oracle versions 10g/11g/12c.\\n\\nExperienced in Integration Broker setup.\\n\\nWorked on applying Patches, Bundles and Tax Updates using Change Assistant and PeopleSoft Update Manager (PUM).\\n\\nExperience in People Tools Upgrade.\\n\\nExperienced in COBOL Compilation on Windows and Linux.\\n\\nExperience in Project Migration and Data Migration.\\n\\nExperienced in Integration Broker setup\\n\\nExperience in Applying Database Patches.\\n\\nExperience in Applying Database Upgrading.\\n\\nExperience in installing, maintaining, Upgrading, Migrating and Patching.\\n\\nExperience in Database Security Management: Users, Roles, Profile.\\n\\nTaking Hot and cold Backups.\\n\\nExperience in resolving developer issues like Resetting Passwords.\\n\\nManaging the size and file of the Table spaces and adding Data files to Table Spaces.\\n\\nExperience in multiplexing of Control files.\\n\\nExperience on PeopleSoft Refreshes.\\n\\nExperience in Datapump Technology.\\n\\nCreate and Managing Database Users, Roles, Profiles and Granting Permissions.\\n\\nPerforming database refreshing.\\n\\nLoad balancing of Application server & Web server, Performed Database Refreshes, \\n\\nInstalled and Configured Change Assistant to apply PUM image.\\n\\nMigration of all PeopleSoft projects to DEV, TEST, PROD instances.\\n\\nExecuting DDD Audit and SYS Audit and ALTER Audits.\\n\\nGenerating Compare Reports.\\n\\n\\n\\n\\n\\n\\n\\n\\n\\nPASTEXPERIENCE                                                                        June 2016-August 2018\\n\\n\\n\\nProject\\n\\n\\n\\nPeopleSoft Admin Support\\n\\nClient\\n\\n\\t\\tCdi Corporation\\n\\nDuration\\n\\n\\t\\tJune 2016 – August 2018\\n\\nRole\\n\\n\\t\\tPeopleSoft Admin.\\n\\nEnvironment\\n\\nApplication Version: HRMS 9.2, FSCM 9.2\\n\\nPeople Tools Version: PT 8.54 Database:12c\\n\\n\\n\\nRoles and Responsibilities:\\n\\n\\n\\nSupporting HCM and FSCM Application as PeopleSoft DBA on 24*7 basis.\\n\\nPeopleSoft Database Administrator supporting HCM environments maintained on Oracle 10g.\\n\\nPeopleSoft DBA supporting\\xa0HCM 9.1 environments maintained on RHEL 4 and Oracle 10g. PeopleSoft Internet Architecture (PIA) including UNIX file systems, application servers, web servers and batch servers.\\n\\nMigration of all PeopleSoft projects to DEV, TEST, PROD instances.\\n\\nAnalysis of production issues raised by clients and providing solutions.\\n\\nExecuting DDD Audit and SYS Audit and ALTER Audits.\\n\\nGenerating Compare Reports.\\n\\nRman configuration for backup.\\n\\n\\n\\nConfiguring and monitoring Process Scheduler and troubleshooting various issues related.\\n\\nInvolved in the Performance of the databases and application by creating multiple domains across the instances.\\n\\nTroubleshooting Tuxedo Application Server, Process Scheduler & Web Server.\\n\\nDatabase Administration, Performance Tuning and support for the database requirements.\\n\\nCreating database users and by setting the default temporary Table spaces and assigning quotas, roles, privileges, and profiles to users.\\n\\nTaking logical backups and logical incremental backups.\\n\\nTaking exp/imp backups\\n\\nTaking cold backups and hot backups.\\n\\nExperience in multiplexing of control files.\\n\\nInvolving in performance tuning.\\n\\nExperience on PeopleSoft Refreshes.\\n\\nExperience in Datapump Technology.\\n\\nCreate and Managing Database Users, Roles, Profiles and Granting Permissions.\\n\\nChecking log file for any database errors.\\n\\nChecking alter log files and trace files.\\n\\nPerforming database refreshing.\\n\\nLoad balancing of Application server & Web server Performed Database Refreshes, Imports, Exports and Backups.\\n\\nInstalled and Configured Change Assistant to apply PUM image.\\n\\n\\n\\n\\n\\n\\n\\n\\n\\n\\n\\nPAST EXPERIENCE                                                                              Nov 2013– May 2016\\n\\n\\n\\n\\n\\nProject\\n\\n\\n\\nImplementation, Configure and Production Support of PeopleSoft Applications and Databases.\\n\\nClient\\n\\n\\t\\tPerkin Elmer\\n\\nDuration\\n\\n\\t\\tNov2013 – May 2016\\n\\nRole\\n\\n\\t\\tPeopleSoft Admin.\\n\\nEnvironment\\n\\nApplication Version: HCM9.2,9.1, FSCM 9.2,9.1\\n\\nPeople Tools Version: PT 8.53,50 Database:10g/11g\\n\\n\\n\\nRoles and Responsibilities:\\n\\nMonitoring the day-to-day working of the system.\\n\\nCreated Application Server Domains and Process Scheduler Domains\\n\\nInstalled PIA, configured PIA for all the instances of DEMO, DEV, TEST CONFIG, STG and PROD databases\\n\\nCreated Databases DEMO, DEV, TEST, CONFIG and PRODUCTION databases on UNIX\\n\\nExperience on Migration of data and PeopleSoft objects.\\n\\nInvolved in the Performance of the databases and application by creating multiple domains across the instances\\n\\nPrepared and maintained the documentation of all the installation and configurations of databases and applications\\n\\nConfiguration of Integration Broker, defining Gateway, creating and configuring nodes for HRMS and Finance\\n\\nInstall People Books for HRMS, Financials.\\n\\nLoad balancing of Application server & Web server Performed Database Refreshes, Imports, Exports and Backups.\\n\\nReport Node configurations.\\n\\nExecuting DDDAUDIT, SYSAUDIT and ALTER Audit.\\n\\nWorked on Project Migrations and Data Migrations.\\n\\nGenerating Compare Reports.\\n\\nConfiguring and monitoring Process Scheduler and troubleshooting various issues related.\\n\\nInvolved in the Performance of the databases and application by creating multiple domains across the instances.\\n\\nTroubleshooting of Application Server Domains, Process Scheduler Domains and Web Server Domains.\\n\\nSetup Application Security using User Profiles, Roles and Permission lists.\\n\\nRefreshing PeopleSoft test environment for synchronisation to production.\\n\\nApplying fixes and patches bundles for\\xa0PeopleSoft\\xa0FSCM9.2 and HRMS9.2 using\\xa0PeopleSoft\\xa0PUM.\\n\\nPerformed Database Refreshes, Imports, Exports and Backups.\\n\\nInvolved in Logical Backups using Data Pump Technology.'"
      ]
     },
     "execution_count": 56,
     "metadata": {},
     "output_type": "execute_result"
    }
   ],
   "source": [
    "resume_data['Raw_Details'][8]"
   ]
  },
  {
   "cell_type": "code",
   "execution_count": 57,
   "id": "c0253d65",
   "metadata": {},
   "outputs": [
    {
     "data": {
      "text/plain": [
       "React JS Developer    24\n",
       "Workday               21\n",
       "PeopleSoft            20\n",
       "SQL Developer         14\n",
       "Name: Category, dtype: int64"
      ]
     },
     "execution_count": 57,
     "metadata": {},
     "output_type": "execute_result"
    }
   ],
   "source": [
    "resume_data.Category.value_counts()"
   ]
  },
  {
   "cell_type": "code",
   "execution_count": 58,
   "id": "e64102f7",
   "metadata": {},
   "outputs": [
    {
     "data": {
      "application/vnd.plotly.v1+json": {
       "config": {
        "plotlyServerURL": "https://plot.ly"
       },
       "data": [
        {
         "alignmentgroup": "True",
         "bingroup": "x",
         "hovertemplate": "variable=Category<br>value=%{x}<br>count=%{y}<extra></extra>",
         "legendgroup": "Category",
         "marker": {
          "color": "#636efa",
          "pattern": {
           "shape": ""
          }
         },
         "name": "Category",
         "offsetgroup": "Category",
         "orientation": "v",
         "showlegend": true,
         "type": "histogram",
         "x": [
          "PeopleSoft",
          "PeopleSoft",
          "PeopleSoft",
          "PeopleSoft",
          "PeopleSoft",
          "PeopleSoft",
          "PeopleSoft",
          "PeopleSoft",
          "PeopleSoft",
          "PeopleSoft",
          "PeopleSoft",
          "PeopleSoft",
          "PeopleSoft",
          "PeopleSoft",
          "PeopleSoft",
          "PeopleSoft",
          "PeopleSoft",
          "PeopleSoft",
          "PeopleSoft",
          "PeopleSoft",
          "React JS Developer",
          "React JS Developer",
          "React JS Developer",
          "React JS Developer",
          "React JS Developer",
          "React JS Developer",
          "React JS Developer",
          "React JS Developer",
          "React JS Developer",
          "React JS Developer",
          "React JS Developer",
          "React JS Developer",
          "React JS Developer",
          "React JS Developer",
          "React JS Developer",
          "React JS Developer",
          "React JS Developer",
          "React JS Developer",
          "React JS Developer",
          "React JS Developer",
          "React JS Developer",
          "React JS Developer",
          "React JS Developer",
          "React JS Developer",
          "SQL Developer",
          "SQL Developer",
          "SQL Developer",
          "SQL Developer",
          "SQL Developer",
          "SQL Developer",
          "SQL Developer",
          "SQL Developer",
          "SQL Developer",
          "SQL Developer",
          "SQL Developer",
          "SQL Developer",
          "SQL Developer",
          "SQL Developer",
          "Workday",
          "Workday",
          "Workday",
          "Workday",
          "Workday",
          "Workday",
          "Workday",
          "Workday",
          "Workday",
          "Workday",
          "Workday",
          "Workday",
          "Workday",
          "Workday",
          "Workday",
          "Workday",
          "Workday",
          "Workday",
          "Workday",
          "Workday",
          "Workday"
         ],
         "xaxis": "x",
         "yaxis": "y"
        }
       ],
       "layout": {
        "barmode": "relative",
        "legend": {
         "title": {
          "text": "variable"
         },
         "tracegroupgap": 0
        },
        "margin": {
         "t": 60
        },
        "template": {
         "data": {
          "bar": [
           {
            "error_x": {
             "color": "#2a3f5f"
            },
            "error_y": {
             "color": "#2a3f5f"
            },
            "marker": {
             "line": {
              "color": "#E5ECF6",
              "width": 0.5
             },
             "pattern": {
              "fillmode": "overlay",
              "size": 10,
              "solidity": 0.2
             }
            },
            "type": "bar"
           }
          ],
          "barpolar": [
           {
            "marker": {
             "line": {
              "color": "#E5ECF6",
              "width": 0.5
             },
             "pattern": {
              "fillmode": "overlay",
              "size": 10,
              "solidity": 0.2
             }
            },
            "type": "barpolar"
           }
          ],
          "carpet": [
           {
            "aaxis": {
             "endlinecolor": "#2a3f5f",
             "gridcolor": "white",
             "linecolor": "white",
             "minorgridcolor": "white",
             "startlinecolor": "#2a3f5f"
            },
            "baxis": {
             "endlinecolor": "#2a3f5f",
             "gridcolor": "white",
             "linecolor": "white",
             "minorgridcolor": "white",
             "startlinecolor": "#2a3f5f"
            },
            "type": "carpet"
           }
          ],
          "choropleth": [
           {
            "colorbar": {
             "outlinewidth": 0,
             "ticks": ""
            },
            "type": "choropleth"
           }
          ],
          "contour": [
           {
            "colorbar": {
             "outlinewidth": 0,
             "ticks": ""
            },
            "colorscale": [
             [
              0,
              "#0d0887"
             ],
             [
              0.1111111111111111,
              "#46039f"
             ],
             [
              0.2222222222222222,
              "#7201a8"
             ],
             [
              0.3333333333333333,
              "#9c179e"
             ],
             [
              0.4444444444444444,
              "#bd3786"
             ],
             [
              0.5555555555555556,
              "#d8576b"
             ],
             [
              0.6666666666666666,
              "#ed7953"
             ],
             [
              0.7777777777777778,
              "#fb9f3a"
             ],
             [
              0.8888888888888888,
              "#fdca26"
             ],
             [
              1,
              "#f0f921"
             ]
            ],
            "type": "contour"
           }
          ],
          "contourcarpet": [
           {
            "colorbar": {
             "outlinewidth": 0,
             "ticks": ""
            },
            "type": "contourcarpet"
           }
          ],
          "heatmap": [
           {
            "colorbar": {
             "outlinewidth": 0,
             "ticks": ""
            },
            "colorscale": [
             [
              0,
              "#0d0887"
             ],
             [
              0.1111111111111111,
              "#46039f"
             ],
             [
              0.2222222222222222,
              "#7201a8"
             ],
             [
              0.3333333333333333,
              "#9c179e"
             ],
             [
              0.4444444444444444,
              "#bd3786"
             ],
             [
              0.5555555555555556,
              "#d8576b"
             ],
             [
              0.6666666666666666,
              "#ed7953"
             ],
             [
              0.7777777777777778,
              "#fb9f3a"
             ],
             [
              0.8888888888888888,
              "#fdca26"
             ],
             [
              1,
              "#f0f921"
             ]
            ],
            "type": "heatmap"
           }
          ],
          "heatmapgl": [
           {
            "colorbar": {
             "outlinewidth": 0,
             "ticks": ""
            },
            "colorscale": [
             [
              0,
              "#0d0887"
             ],
             [
              0.1111111111111111,
              "#46039f"
             ],
             [
              0.2222222222222222,
              "#7201a8"
             ],
             [
              0.3333333333333333,
              "#9c179e"
             ],
             [
              0.4444444444444444,
              "#bd3786"
             ],
             [
              0.5555555555555556,
              "#d8576b"
             ],
             [
              0.6666666666666666,
              "#ed7953"
             ],
             [
              0.7777777777777778,
              "#fb9f3a"
             ],
             [
              0.8888888888888888,
              "#fdca26"
             ],
             [
              1,
              "#f0f921"
             ]
            ],
            "type": "heatmapgl"
           }
          ],
          "histogram": [
           {
            "marker": {
             "pattern": {
              "fillmode": "overlay",
              "size": 10,
              "solidity": 0.2
             }
            },
            "type": "histogram"
           }
          ],
          "histogram2d": [
           {
            "colorbar": {
             "outlinewidth": 0,
             "ticks": ""
            },
            "colorscale": [
             [
              0,
              "#0d0887"
             ],
             [
              0.1111111111111111,
              "#46039f"
             ],
             [
              0.2222222222222222,
              "#7201a8"
             ],
             [
              0.3333333333333333,
              "#9c179e"
             ],
             [
              0.4444444444444444,
              "#bd3786"
             ],
             [
              0.5555555555555556,
              "#d8576b"
             ],
             [
              0.6666666666666666,
              "#ed7953"
             ],
             [
              0.7777777777777778,
              "#fb9f3a"
             ],
             [
              0.8888888888888888,
              "#fdca26"
             ],
             [
              1,
              "#f0f921"
             ]
            ],
            "type": "histogram2d"
           }
          ],
          "histogram2dcontour": [
           {
            "colorbar": {
             "outlinewidth": 0,
             "ticks": ""
            },
            "colorscale": [
             [
              0,
              "#0d0887"
             ],
             [
              0.1111111111111111,
              "#46039f"
             ],
             [
              0.2222222222222222,
              "#7201a8"
             ],
             [
              0.3333333333333333,
              "#9c179e"
             ],
             [
              0.4444444444444444,
              "#bd3786"
             ],
             [
              0.5555555555555556,
              "#d8576b"
             ],
             [
              0.6666666666666666,
              "#ed7953"
             ],
             [
              0.7777777777777778,
              "#fb9f3a"
             ],
             [
              0.8888888888888888,
              "#fdca26"
             ],
             [
              1,
              "#f0f921"
             ]
            ],
            "type": "histogram2dcontour"
           }
          ],
          "mesh3d": [
           {
            "colorbar": {
             "outlinewidth": 0,
             "ticks": ""
            },
            "type": "mesh3d"
           }
          ],
          "parcoords": [
           {
            "line": {
             "colorbar": {
              "outlinewidth": 0,
              "ticks": ""
             }
            },
            "type": "parcoords"
           }
          ],
          "pie": [
           {
            "automargin": true,
            "type": "pie"
           }
          ],
          "scatter": [
           {
            "fillpattern": {
             "fillmode": "overlay",
             "size": 10,
             "solidity": 0.2
            },
            "type": "scatter"
           }
          ],
          "scatter3d": [
           {
            "line": {
             "colorbar": {
              "outlinewidth": 0,
              "ticks": ""
             }
            },
            "marker": {
             "colorbar": {
              "outlinewidth": 0,
              "ticks": ""
             }
            },
            "type": "scatter3d"
           }
          ],
          "scattercarpet": [
           {
            "marker": {
             "colorbar": {
              "outlinewidth": 0,
              "ticks": ""
             }
            },
            "type": "scattercarpet"
           }
          ],
          "scattergeo": [
           {
            "marker": {
             "colorbar": {
              "outlinewidth": 0,
              "ticks": ""
             }
            },
            "type": "scattergeo"
           }
          ],
          "scattergl": [
           {
            "marker": {
             "colorbar": {
              "outlinewidth": 0,
              "ticks": ""
             }
            },
            "type": "scattergl"
           }
          ],
          "scattermapbox": [
           {
            "marker": {
             "colorbar": {
              "outlinewidth": 0,
              "ticks": ""
             }
            },
            "type": "scattermapbox"
           }
          ],
          "scatterpolar": [
           {
            "marker": {
             "colorbar": {
              "outlinewidth": 0,
              "ticks": ""
             }
            },
            "type": "scatterpolar"
           }
          ],
          "scatterpolargl": [
           {
            "marker": {
             "colorbar": {
              "outlinewidth": 0,
              "ticks": ""
             }
            },
            "type": "scatterpolargl"
           }
          ],
          "scatterternary": [
           {
            "marker": {
             "colorbar": {
              "outlinewidth": 0,
              "ticks": ""
             }
            },
            "type": "scatterternary"
           }
          ],
          "surface": [
           {
            "colorbar": {
             "outlinewidth": 0,
             "ticks": ""
            },
            "colorscale": [
             [
              0,
              "#0d0887"
             ],
             [
              0.1111111111111111,
              "#46039f"
             ],
             [
              0.2222222222222222,
              "#7201a8"
             ],
             [
              0.3333333333333333,
              "#9c179e"
             ],
             [
              0.4444444444444444,
              "#bd3786"
             ],
             [
              0.5555555555555556,
              "#d8576b"
             ],
             [
              0.6666666666666666,
              "#ed7953"
             ],
             [
              0.7777777777777778,
              "#fb9f3a"
             ],
             [
              0.8888888888888888,
              "#fdca26"
             ],
             [
              1,
              "#f0f921"
             ]
            ],
            "type": "surface"
           }
          ],
          "table": [
           {
            "cells": {
             "fill": {
              "color": "#EBF0F8"
             },
             "line": {
              "color": "white"
             }
            },
            "header": {
             "fill": {
              "color": "#C8D4E3"
             },
             "line": {
              "color": "white"
             }
            },
            "type": "table"
           }
          ]
         },
         "layout": {
          "annotationdefaults": {
           "arrowcolor": "#2a3f5f",
           "arrowhead": 0,
           "arrowwidth": 1
          },
          "autotypenumbers": "strict",
          "coloraxis": {
           "colorbar": {
            "outlinewidth": 0,
            "ticks": ""
           }
          },
          "colorscale": {
           "diverging": [
            [
             0,
             "#8e0152"
            ],
            [
             0.1,
             "#c51b7d"
            ],
            [
             0.2,
             "#de77ae"
            ],
            [
             0.3,
             "#f1b6da"
            ],
            [
             0.4,
             "#fde0ef"
            ],
            [
             0.5,
             "#f7f7f7"
            ],
            [
             0.6,
             "#e6f5d0"
            ],
            [
             0.7,
             "#b8e186"
            ],
            [
             0.8,
             "#7fbc41"
            ],
            [
             0.9,
             "#4d9221"
            ],
            [
             1,
             "#276419"
            ]
           ],
           "sequential": [
            [
             0,
             "#0d0887"
            ],
            [
             0.1111111111111111,
             "#46039f"
            ],
            [
             0.2222222222222222,
             "#7201a8"
            ],
            [
             0.3333333333333333,
             "#9c179e"
            ],
            [
             0.4444444444444444,
             "#bd3786"
            ],
            [
             0.5555555555555556,
             "#d8576b"
            ],
            [
             0.6666666666666666,
             "#ed7953"
            ],
            [
             0.7777777777777778,
             "#fb9f3a"
            ],
            [
             0.8888888888888888,
             "#fdca26"
            ],
            [
             1,
             "#f0f921"
            ]
           ],
           "sequentialminus": [
            [
             0,
             "#0d0887"
            ],
            [
             0.1111111111111111,
             "#46039f"
            ],
            [
             0.2222222222222222,
             "#7201a8"
            ],
            [
             0.3333333333333333,
             "#9c179e"
            ],
            [
             0.4444444444444444,
             "#bd3786"
            ],
            [
             0.5555555555555556,
             "#d8576b"
            ],
            [
             0.6666666666666666,
             "#ed7953"
            ],
            [
             0.7777777777777778,
             "#fb9f3a"
            ],
            [
             0.8888888888888888,
             "#fdca26"
            ],
            [
             1,
             "#f0f921"
            ]
           ]
          },
          "colorway": [
           "#636efa",
           "#EF553B",
           "#00cc96",
           "#ab63fa",
           "#FFA15A",
           "#19d3f3",
           "#FF6692",
           "#B6E880",
           "#FF97FF",
           "#FECB52"
          ],
          "font": {
           "color": "#2a3f5f"
          },
          "geo": {
           "bgcolor": "white",
           "lakecolor": "white",
           "landcolor": "#E5ECF6",
           "showlakes": true,
           "showland": true,
           "subunitcolor": "white"
          },
          "hoverlabel": {
           "align": "left"
          },
          "hovermode": "closest",
          "mapbox": {
           "style": "light"
          },
          "paper_bgcolor": "white",
          "plot_bgcolor": "#E5ECF6",
          "polar": {
           "angularaxis": {
            "gridcolor": "white",
            "linecolor": "white",
            "ticks": ""
           },
           "bgcolor": "#E5ECF6",
           "radialaxis": {
            "gridcolor": "white",
            "linecolor": "white",
            "ticks": ""
           }
          },
          "scene": {
           "xaxis": {
            "backgroundcolor": "#E5ECF6",
            "gridcolor": "white",
            "gridwidth": 2,
            "linecolor": "white",
            "showbackground": true,
            "ticks": "",
            "zerolinecolor": "white"
           },
           "yaxis": {
            "backgroundcolor": "#E5ECF6",
            "gridcolor": "white",
            "gridwidth": 2,
            "linecolor": "white",
            "showbackground": true,
            "ticks": "",
            "zerolinecolor": "white"
           },
           "zaxis": {
            "backgroundcolor": "#E5ECF6",
            "gridcolor": "white",
            "gridwidth": 2,
            "linecolor": "white",
            "showbackground": true,
            "ticks": "",
            "zerolinecolor": "white"
           }
          },
          "shapedefaults": {
           "line": {
            "color": "#2a3f5f"
           }
          },
          "ternary": {
           "aaxis": {
            "gridcolor": "white",
            "linecolor": "white",
            "ticks": ""
           },
           "baxis": {
            "gridcolor": "white",
            "linecolor": "white",
            "ticks": ""
           },
           "bgcolor": "#E5ECF6",
           "caxis": {
            "gridcolor": "white",
            "linecolor": "white",
            "ticks": ""
           }
          },
          "title": {
           "x": 0.05
          },
          "xaxis": {
           "automargin": true,
           "gridcolor": "white",
           "linecolor": "white",
           "ticks": "",
           "title": {
            "standoff": 15
           },
           "zerolinecolor": "white",
           "zerolinewidth": 2
          },
          "yaxis": {
           "automargin": true,
           "gridcolor": "white",
           "linecolor": "white",
           "ticks": "",
           "title": {
            "standoff": 15
           },
           "zerolinecolor": "white",
           "zerolinewidth": 2
          }
         }
        },
        "xaxis": {
         "anchor": "y",
         "domain": [
          0,
          1
         ],
         "title": {
          "text": "value"
         }
        },
        "yaxis": {
         "anchor": "x",
         "domain": [
          0,
          1
         ],
         "title": {
          "text": "count"
         }
        }
       }
      },
      "text/html": [
       "<div>                            <div id=\"a008374c-5dd9-418b-b969-f94d8def4412\" class=\"plotly-graph-div\" style=\"height:525px; width:100%;\"></div>            <script type=\"text/javascript\">                require([\"plotly\"], function(Plotly) {                    window.PLOTLYENV=window.PLOTLYENV || {};                                    if (document.getElementById(\"a008374c-5dd9-418b-b969-f94d8def4412\")) {                    Plotly.newPlot(                        \"a008374c-5dd9-418b-b969-f94d8def4412\",                        [{\"alignmentgroup\":\"True\",\"bingroup\":\"x\",\"hovertemplate\":\"variable=Category\\u003cbr\\u003evalue=%{x}\\u003cbr\\u003ecount=%{y}\\u003cextra\\u003e\\u003c\\u002fextra\\u003e\",\"legendgroup\":\"Category\",\"marker\":{\"color\":\"#636efa\",\"pattern\":{\"shape\":\"\"}},\"name\":\"Category\",\"offsetgroup\":\"Category\",\"orientation\":\"v\",\"showlegend\":true,\"x\":[\"PeopleSoft\",\"PeopleSoft\",\"PeopleSoft\",\"PeopleSoft\",\"PeopleSoft\",\"PeopleSoft\",\"PeopleSoft\",\"PeopleSoft\",\"PeopleSoft\",\"PeopleSoft\",\"PeopleSoft\",\"PeopleSoft\",\"PeopleSoft\",\"PeopleSoft\",\"PeopleSoft\",\"PeopleSoft\",\"PeopleSoft\",\"PeopleSoft\",\"PeopleSoft\",\"PeopleSoft\",\"React JS Developer\",\"React JS Developer\",\"React JS Developer\",\"React JS Developer\",\"React JS Developer\",\"React JS Developer\",\"React JS Developer\",\"React JS Developer\",\"React JS Developer\",\"React JS Developer\",\"React JS Developer\",\"React JS Developer\",\"React JS Developer\",\"React JS Developer\",\"React JS Developer\",\"React JS Developer\",\"React JS Developer\",\"React JS Developer\",\"React JS Developer\",\"React JS Developer\",\"React JS Developer\",\"React JS Developer\",\"React JS Developer\",\"React JS Developer\",\"SQL Developer\",\"SQL Developer\",\"SQL Developer\",\"SQL Developer\",\"SQL Developer\",\"SQL Developer\",\"SQL Developer\",\"SQL Developer\",\"SQL Developer\",\"SQL Developer\",\"SQL Developer\",\"SQL Developer\",\"SQL Developer\",\"SQL Developer\",\"Workday\",\"Workday\",\"Workday\",\"Workday\",\"Workday\",\"Workday\",\"Workday\",\"Workday\",\"Workday\",\"Workday\",\"Workday\",\"Workday\",\"Workday\",\"Workday\",\"Workday\",\"Workday\",\"Workday\",\"Workday\",\"Workday\",\"Workday\",\"Workday\"],\"xaxis\":\"x\",\"yaxis\":\"y\",\"type\":\"histogram\"}],                        {\"template\":{\"data\":{\"histogram2dcontour\":[{\"type\":\"histogram2dcontour\",\"colorbar\":{\"outlinewidth\":0,\"ticks\":\"\"},\"colorscale\":[[0.0,\"#0d0887\"],[0.1111111111111111,\"#46039f\"],[0.2222222222222222,\"#7201a8\"],[0.3333333333333333,\"#9c179e\"],[0.4444444444444444,\"#bd3786\"],[0.5555555555555556,\"#d8576b\"],[0.6666666666666666,\"#ed7953\"],[0.7777777777777778,\"#fb9f3a\"],[0.8888888888888888,\"#fdca26\"],[1.0,\"#f0f921\"]]}],\"choropleth\":[{\"type\":\"choropleth\",\"colorbar\":{\"outlinewidth\":0,\"ticks\":\"\"}}],\"histogram2d\":[{\"type\":\"histogram2d\",\"colorbar\":{\"outlinewidth\":0,\"ticks\":\"\"},\"colorscale\":[[0.0,\"#0d0887\"],[0.1111111111111111,\"#46039f\"],[0.2222222222222222,\"#7201a8\"],[0.3333333333333333,\"#9c179e\"],[0.4444444444444444,\"#bd3786\"],[0.5555555555555556,\"#d8576b\"],[0.6666666666666666,\"#ed7953\"],[0.7777777777777778,\"#fb9f3a\"],[0.8888888888888888,\"#fdca26\"],[1.0,\"#f0f921\"]]}],\"heatmap\":[{\"type\":\"heatmap\",\"colorbar\":{\"outlinewidth\":0,\"ticks\":\"\"},\"colorscale\":[[0.0,\"#0d0887\"],[0.1111111111111111,\"#46039f\"],[0.2222222222222222,\"#7201a8\"],[0.3333333333333333,\"#9c179e\"],[0.4444444444444444,\"#bd3786\"],[0.5555555555555556,\"#d8576b\"],[0.6666666666666666,\"#ed7953\"],[0.7777777777777778,\"#fb9f3a\"],[0.8888888888888888,\"#fdca26\"],[1.0,\"#f0f921\"]]}],\"heatmapgl\":[{\"type\":\"heatmapgl\",\"colorbar\":{\"outlinewidth\":0,\"ticks\":\"\"},\"colorscale\":[[0.0,\"#0d0887\"],[0.1111111111111111,\"#46039f\"],[0.2222222222222222,\"#7201a8\"],[0.3333333333333333,\"#9c179e\"],[0.4444444444444444,\"#bd3786\"],[0.5555555555555556,\"#d8576b\"],[0.6666666666666666,\"#ed7953\"],[0.7777777777777778,\"#fb9f3a\"],[0.8888888888888888,\"#fdca26\"],[1.0,\"#f0f921\"]]}],\"contourcarpet\":[{\"type\":\"contourcarpet\",\"colorbar\":{\"outlinewidth\":0,\"ticks\":\"\"}}],\"contour\":[{\"type\":\"contour\",\"colorbar\":{\"outlinewidth\":0,\"ticks\":\"\"},\"colorscale\":[[0.0,\"#0d0887\"],[0.1111111111111111,\"#46039f\"],[0.2222222222222222,\"#7201a8\"],[0.3333333333333333,\"#9c179e\"],[0.4444444444444444,\"#bd3786\"],[0.5555555555555556,\"#d8576b\"],[0.6666666666666666,\"#ed7953\"],[0.7777777777777778,\"#fb9f3a\"],[0.8888888888888888,\"#fdca26\"],[1.0,\"#f0f921\"]]}],\"surface\":[{\"type\":\"surface\",\"colorbar\":{\"outlinewidth\":0,\"ticks\":\"\"},\"colorscale\":[[0.0,\"#0d0887\"],[0.1111111111111111,\"#46039f\"],[0.2222222222222222,\"#7201a8\"],[0.3333333333333333,\"#9c179e\"],[0.4444444444444444,\"#bd3786\"],[0.5555555555555556,\"#d8576b\"],[0.6666666666666666,\"#ed7953\"],[0.7777777777777778,\"#fb9f3a\"],[0.8888888888888888,\"#fdca26\"],[1.0,\"#f0f921\"]]}],\"mesh3d\":[{\"type\":\"mesh3d\",\"colorbar\":{\"outlinewidth\":0,\"ticks\":\"\"}}],\"scatter\":[{\"fillpattern\":{\"fillmode\":\"overlay\",\"size\":10,\"solidity\":0.2},\"type\":\"scatter\"}],\"parcoords\":[{\"type\":\"parcoords\",\"line\":{\"colorbar\":{\"outlinewidth\":0,\"ticks\":\"\"}}}],\"scatterpolargl\":[{\"type\":\"scatterpolargl\",\"marker\":{\"colorbar\":{\"outlinewidth\":0,\"ticks\":\"\"}}}],\"bar\":[{\"error_x\":{\"color\":\"#2a3f5f\"},\"error_y\":{\"color\":\"#2a3f5f\"},\"marker\":{\"line\":{\"color\":\"#E5ECF6\",\"width\":0.5},\"pattern\":{\"fillmode\":\"overlay\",\"size\":10,\"solidity\":0.2}},\"type\":\"bar\"}],\"scattergeo\":[{\"type\":\"scattergeo\",\"marker\":{\"colorbar\":{\"outlinewidth\":0,\"ticks\":\"\"}}}],\"scatterpolar\":[{\"type\":\"scatterpolar\",\"marker\":{\"colorbar\":{\"outlinewidth\":0,\"ticks\":\"\"}}}],\"histogram\":[{\"marker\":{\"pattern\":{\"fillmode\":\"overlay\",\"size\":10,\"solidity\":0.2}},\"type\":\"histogram\"}],\"scattergl\":[{\"type\":\"scattergl\",\"marker\":{\"colorbar\":{\"outlinewidth\":0,\"ticks\":\"\"}}}],\"scatter3d\":[{\"type\":\"scatter3d\",\"line\":{\"colorbar\":{\"outlinewidth\":0,\"ticks\":\"\"}},\"marker\":{\"colorbar\":{\"outlinewidth\":0,\"ticks\":\"\"}}}],\"scattermapbox\":[{\"type\":\"scattermapbox\",\"marker\":{\"colorbar\":{\"outlinewidth\":0,\"ticks\":\"\"}}}],\"scatterternary\":[{\"type\":\"scatterternary\",\"marker\":{\"colorbar\":{\"outlinewidth\":0,\"ticks\":\"\"}}}],\"scattercarpet\":[{\"type\":\"scattercarpet\",\"marker\":{\"colorbar\":{\"outlinewidth\":0,\"ticks\":\"\"}}}],\"carpet\":[{\"aaxis\":{\"endlinecolor\":\"#2a3f5f\",\"gridcolor\":\"white\",\"linecolor\":\"white\",\"minorgridcolor\":\"white\",\"startlinecolor\":\"#2a3f5f\"},\"baxis\":{\"endlinecolor\":\"#2a3f5f\",\"gridcolor\":\"white\",\"linecolor\":\"white\",\"minorgridcolor\":\"white\",\"startlinecolor\":\"#2a3f5f\"},\"type\":\"carpet\"}],\"table\":[{\"cells\":{\"fill\":{\"color\":\"#EBF0F8\"},\"line\":{\"color\":\"white\"}},\"header\":{\"fill\":{\"color\":\"#C8D4E3\"},\"line\":{\"color\":\"white\"}},\"type\":\"table\"}],\"barpolar\":[{\"marker\":{\"line\":{\"color\":\"#E5ECF6\",\"width\":0.5},\"pattern\":{\"fillmode\":\"overlay\",\"size\":10,\"solidity\":0.2}},\"type\":\"barpolar\"}],\"pie\":[{\"automargin\":true,\"type\":\"pie\"}]},\"layout\":{\"autotypenumbers\":\"strict\",\"colorway\":[\"#636efa\",\"#EF553B\",\"#00cc96\",\"#ab63fa\",\"#FFA15A\",\"#19d3f3\",\"#FF6692\",\"#B6E880\",\"#FF97FF\",\"#FECB52\"],\"font\":{\"color\":\"#2a3f5f\"},\"hovermode\":\"closest\",\"hoverlabel\":{\"align\":\"left\"},\"paper_bgcolor\":\"white\",\"plot_bgcolor\":\"#E5ECF6\",\"polar\":{\"bgcolor\":\"#E5ECF6\",\"angularaxis\":{\"gridcolor\":\"white\",\"linecolor\":\"white\",\"ticks\":\"\"},\"radialaxis\":{\"gridcolor\":\"white\",\"linecolor\":\"white\",\"ticks\":\"\"}},\"ternary\":{\"bgcolor\":\"#E5ECF6\",\"aaxis\":{\"gridcolor\":\"white\",\"linecolor\":\"white\",\"ticks\":\"\"},\"baxis\":{\"gridcolor\":\"white\",\"linecolor\":\"white\",\"ticks\":\"\"},\"caxis\":{\"gridcolor\":\"white\",\"linecolor\":\"white\",\"ticks\":\"\"}},\"coloraxis\":{\"colorbar\":{\"outlinewidth\":0,\"ticks\":\"\"}},\"colorscale\":{\"sequential\":[[0.0,\"#0d0887\"],[0.1111111111111111,\"#46039f\"],[0.2222222222222222,\"#7201a8\"],[0.3333333333333333,\"#9c179e\"],[0.4444444444444444,\"#bd3786\"],[0.5555555555555556,\"#d8576b\"],[0.6666666666666666,\"#ed7953\"],[0.7777777777777778,\"#fb9f3a\"],[0.8888888888888888,\"#fdca26\"],[1.0,\"#f0f921\"]],\"sequentialminus\":[[0.0,\"#0d0887\"],[0.1111111111111111,\"#46039f\"],[0.2222222222222222,\"#7201a8\"],[0.3333333333333333,\"#9c179e\"],[0.4444444444444444,\"#bd3786\"],[0.5555555555555556,\"#d8576b\"],[0.6666666666666666,\"#ed7953\"],[0.7777777777777778,\"#fb9f3a\"],[0.8888888888888888,\"#fdca26\"],[1.0,\"#f0f921\"]],\"diverging\":[[0,\"#8e0152\"],[0.1,\"#c51b7d\"],[0.2,\"#de77ae\"],[0.3,\"#f1b6da\"],[0.4,\"#fde0ef\"],[0.5,\"#f7f7f7\"],[0.6,\"#e6f5d0\"],[0.7,\"#b8e186\"],[0.8,\"#7fbc41\"],[0.9,\"#4d9221\"],[1,\"#276419\"]]},\"xaxis\":{\"gridcolor\":\"white\",\"linecolor\":\"white\",\"ticks\":\"\",\"title\":{\"standoff\":15},\"zerolinecolor\":\"white\",\"automargin\":true,\"zerolinewidth\":2},\"yaxis\":{\"gridcolor\":\"white\",\"linecolor\":\"white\",\"ticks\":\"\",\"title\":{\"standoff\":15},\"zerolinecolor\":\"white\",\"automargin\":true,\"zerolinewidth\":2},\"scene\":{\"xaxis\":{\"backgroundcolor\":\"#E5ECF6\",\"gridcolor\":\"white\",\"linecolor\":\"white\",\"showbackground\":true,\"ticks\":\"\",\"zerolinecolor\":\"white\",\"gridwidth\":2},\"yaxis\":{\"backgroundcolor\":\"#E5ECF6\",\"gridcolor\":\"white\",\"linecolor\":\"white\",\"showbackground\":true,\"ticks\":\"\",\"zerolinecolor\":\"white\",\"gridwidth\":2},\"zaxis\":{\"backgroundcolor\":\"#E5ECF6\",\"gridcolor\":\"white\",\"linecolor\":\"white\",\"showbackground\":true,\"ticks\":\"\",\"zerolinecolor\":\"white\",\"gridwidth\":2}},\"shapedefaults\":{\"line\":{\"color\":\"#2a3f5f\"}},\"annotationdefaults\":{\"arrowcolor\":\"#2a3f5f\",\"arrowhead\":0,\"arrowwidth\":1},\"geo\":{\"bgcolor\":\"white\",\"landcolor\":\"#E5ECF6\",\"subunitcolor\":\"white\",\"showland\":true,\"showlakes\":true,\"lakecolor\":\"white\"},\"title\":{\"x\":0.05},\"mapbox\":{\"style\":\"light\"}}},\"xaxis\":{\"anchor\":\"y\",\"domain\":[0.0,1.0],\"title\":{\"text\":\"value\"}},\"yaxis\":{\"anchor\":\"x\",\"domain\":[0.0,1.0],\"title\":{\"text\":\"count\"}},\"legend\":{\"title\":{\"text\":\"variable\"},\"tracegroupgap\":0},\"margin\":{\"t\":60},\"barmode\":\"relative\"},                        {\"responsive\": true}                    ).then(function(){\n",
       "                            \n",
       "var gd = document.getElementById('a008374c-5dd9-418b-b969-f94d8def4412');\n",
       "var x = new MutationObserver(function (mutations, observer) {{\n",
       "        var display = window.getComputedStyle(gd).display;\n",
       "        if (!display || display === 'none') {{\n",
       "            console.log([gd, 'removed!']);\n",
       "            Plotly.purge(gd);\n",
       "            observer.disconnect();\n",
       "        }}\n",
       "}});\n",
       "\n",
       "// Listen for the removal of the full notebook cells\n",
       "var notebookContainer = gd.closest('#notebook-container');\n",
       "if (notebookContainer) {{\n",
       "    x.observe(notebookContainer, {childList: true});\n",
       "}}\n",
       "\n",
       "// Listen for the clearing of the current output cell\n",
       "var outputEl = gd.closest('.output');\n",
       "if (outputEl) {{\n",
       "    x.observe(outputEl, {childList: true});\n",
       "}}\n",
       "\n",
       "                        })                };                });            </script>        </div>"
      ]
     },
     "metadata": {},
     "output_type": "display_data"
    }
   ],
   "source": [
    "px.histogram(resume_data.Category)"
   ]
  },
  {
   "cell_type": "code",
   "execution_count": 59,
   "id": "c31cc4fa",
   "metadata": {},
   "outputs": [
    {
     "data": {
      "text/html": [
       "<div>\n",
       "<style scoped>\n",
       "    .dataframe tbody tr th:only-of-type {\n",
       "        vertical-align: middle;\n",
       "    }\n",
       "\n",
       "    .dataframe tbody tr th {\n",
       "        vertical-align: top;\n",
       "    }\n",
       "\n",
       "    .dataframe thead th {\n",
       "        text-align: right;\n",
       "    }\n",
       "</style>\n",
       "<table border=\"1\" class=\"dataframe\">\n",
       "  <thead>\n",
       "    <tr style=\"text-align: right;\">\n",
       "      <th></th>\n",
       "      <th>Category</th>\n",
       "      <th>Raw_Details</th>\n",
       "    </tr>\n",
       "  </thead>\n",
       "  <tbody>\n",
       "    <tr>\n",
       "      <th>0</th>\n",
       "      <td>PeopleSoft</td>\n",
       "      <td>Anubhav Kumar Singh\\t\\t\\n\\n\\n\\nCore Competenci...</td>\n",
       "    </tr>\n",
       "    <tr>\n",
       "      <th>1</th>\n",
       "      <td>PeopleSoft</td>\n",
       "      <td>G. Ananda Rayudu \\n\\n\\t\\t       https://www.li...</td>\n",
       "    </tr>\n",
       "    <tr>\n",
       "      <th>2</th>\n",
       "      <td>PeopleSoft</td>\n",
       "      <td>PeopleSoft Database Administrator\\n\\n         ...</td>\n",
       "    </tr>\n",
       "    <tr>\n",
       "      <th>3</th>\n",
       "      <td>PeopleSoft</td>\n",
       "      <td>Classification: Internal\\n\\nClassification: In...</td>\n",
       "    </tr>\n",
       "    <tr>\n",
       "      <th>4</th>\n",
       "      <td>PeopleSoft</td>\n",
       "      <td>Priyanka Ramadoss\\n\\n\\t61/46, MountPleasant, \\...</td>\n",
       "    </tr>\n",
       "    <tr>\n",
       "      <th>...</th>\n",
       "      <td>...</td>\n",
       "      <td>...</td>\n",
       "    </tr>\n",
       "    <tr>\n",
       "      <th>74</th>\n",
       "      <td>Workday</td>\n",
       "      <td>Workday Integration Consultant\\n\\n\\n\\nName    ...</td>\n",
       "    </tr>\n",
       "    <tr>\n",
       "      <th>75</th>\n",
       "      <td>Workday</td>\n",
       "      <td>Srikanth (WORKDAY hCM Consultant)\\t           ...</td>\n",
       "    </tr>\n",
       "    <tr>\n",
       "      <th>76</th>\n",
       "      <td>Workday</td>\n",
       "      <td>WORKDAY | HCM | FCM\\n\\nName \\t\\t: Kumar S.S\\n\\...</td>\n",
       "    </tr>\n",
       "    <tr>\n",
       "      <th>77</th>\n",
       "      <td>Workday</td>\n",
       "      <td>Venkateswarlu.B\\t\\t\\t\\t\\t\\t\\t\\tWorkday Consult...</td>\n",
       "    </tr>\n",
       "    <tr>\n",
       "      <th>78</th>\n",
       "      <td>Workday</td>\n",
       "      <td>Vinay kumar .v\\nWorkday Functional Consultant\\...</td>\n",
       "    </tr>\n",
       "  </tbody>\n",
       "</table>\n",
       "<p>79 rows × 2 columns</p>\n",
       "</div>"
      ],
      "text/plain": [
       "      Category                                        Raw_Details\n",
       "0   PeopleSoft  Anubhav Kumar Singh\\t\\t\\n\\n\\n\\nCore Competenci...\n",
       "1   PeopleSoft  G. Ananda Rayudu \\n\\n\\t\\t       https://www.li...\n",
       "2   PeopleSoft  PeopleSoft Database Administrator\\n\\n         ...\n",
       "3   PeopleSoft  Classification: Internal\\n\\nClassification: In...\n",
       "4   PeopleSoft  Priyanka Ramadoss\\n\\n\\t61/46, MountPleasant, \\...\n",
       "..         ...                                                ...\n",
       "74     Workday  Workday Integration Consultant\\n\\n\\n\\nName    ...\n",
       "75     Workday  Srikanth (WORKDAY hCM Consultant)\\t           ...\n",
       "76     Workday  WORKDAY | HCM | FCM\\n\\nName \\t\\t: Kumar S.S\\n\\...\n",
       "77     Workday  Venkateswarlu.B\\t\\t\\t\\t\\t\\t\\t\\tWorkday Consult...\n",
       "78     Workday  Vinay kumar .v\\nWorkday Functional Consultant\\...\n",
       "\n",
       "[79 rows x 2 columns]"
      ]
     },
     "execution_count": 59,
     "metadata": {},
     "output_type": "execute_result"
    }
   ],
   "source": [
    "resume_data"
   ]
  },
  {
   "cell_type": "code",
   "execution_count": 60,
   "id": "4d0ca30d",
   "metadata": {},
   "outputs": [
    {
     "name": "stdout",
     "output_type": "stream",
     "text": [
      "                                         Raw_Details  \\\n",
      "0  Anubhav Kumar Singh\\t\\t\\n\\n\\n\\nCore Competenci...   \n",
      "1  G. Ananda Rayudu \\n\\n\\t\\t       https://www.li...   \n",
      "2  PeopleSoft Database Administrator\\n\\n         ...   \n",
      "3  Classification: Internal\\n\\nClassification: In...   \n",
      "4  Priyanka Ramadoss\\n\\n\\t61/46, MountPleasant, \\...   \n",
      "\n",
      "                                     Cleaned_Details  \n",
      "0  Anubhav Kumar Singh Core Competencies: Scripti...  \n",
      "1  G. Ananda Rayudu https://www.linkedin.com/in/a...  \n",
      "2  PeopleSoft Database Administrator Gangareddy P...  \n",
      "3  Classification: Internal Classification: Inter...  \n",
      "4  Priyanka Ramadoss 61/46, MountPleasant, Coonoo...  \n"
     ]
    }
   ],
   "source": [
    "# Define stopwords outside the function\n",
    "stop = set(stopwords.words('english'))\n",
    "\n",
    "# Function to remove stopwords and numerical values from text\n",
    "def remove_stopwords_and_numbers(text, stop):\n",
    "    words = text.split()\n",
    "    # Remove numerical values\n",
    "    words = [word for word in words if not word.isdigit()]\n",
    "    \n",
    "    # Remove stopwords\n",
    "    \n",
    "    filtered_words = [word for word in words if word.lower() not in stop]\n",
    "    return ' '.join(filtered_words)\n",
    "\n",
    "# Assuming you have resume data in a pandas DataFrame named `resume_data`\n",
    "resume_data['Cleaned_Details'] = resume_data['Raw_Details'].apply(remove_stopwords_and_numbers, args=(stop,))\n",
    "\n",
    "# Displaying the 'Raw_Details' and 'Cleaned_Details' columns for the first few rows\n",
    "print(resume_data[['Raw_Details', 'Cleaned_Details']].head())"
   ]
  },
  {
   "cell_type": "code",
   "execution_count": 61,
   "id": "9e3517f8",
   "metadata": {},
   "outputs": [
    {
     "data": {
      "text/html": [
       "<div>\n",
       "<style scoped>\n",
       "    .dataframe tbody tr th:only-of-type {\n",
       "        vertical-align: middle;\n",
       "    }\n",
       "\n",
       "    .dataframe tbody tr th {\n",
       "        vertical-align: top;\n",
       "    }\n",
       "\n",
       "    .dataframe thead th {\n",
       "        text-align: right;\n",
       "    }\n",
       "</style>\n",
       "<table border=\"1\" class=\"dataframe\">\n",
       "  <thead>\n",
       "    <tr style=\"text-align: right;\">\n",
       "      <th></th>\n",
       "      <th>Category</th>\n",
       "      <th>Raw_Details</th>\n",
       "      <th>Cleaned_Details</th>\n",
       "    </tr>\n",
       "  </thead>\n",
       "  <tbody>\n",
       "    <tr>\n",
       "      <th>0</th>\n",
       "      <td>PeopleSoft</td>\n",
       "      <td>Anubhav Kumar Singh\\t\\t\\n\\n\\n\\nCore Competenci...</td>\n",
       "      <td>Anubhav Kumar Singh Core Competencies: Scripti...</td>\n",
       "    </tr>\n",
       "    <tr>\n",
       "      <th>1</th>\n",
       "      <td>PeopleSoft</td>\n",
       "      <td>G. Ananda Rayudu \\n\\n\\t\\t       https://www.li...</td>\n",
       "      <td>G. Ananda Rayudu https://www.linkedin.com/in/a...</td>\n",
       "    </tr>\n",
       "    <tr>\n",
       "      <th>2</th>\n",
       "      <td>PeopleSoft</td>\n",
       "      <td>PeopleSoft Database Administrator\\n\\n         ...</td>\n",
       "      <td>PeopleSoft Database Administrator Gangareddy P...</td>\n",
       "    </tr>\n",
       "    <tr>\n",
       "      <th>3</th>\n",
       "      <td>PeopleSoft</td>\n",
       "      <td>Classification: Internal\\n\\nClassification: In...</td>\n",
       "      <td>Classification: Internal Classification: Inter...</td>\n",
       "    </tr>\n",
       "    <tr>\n",
       "      <th>4</th>\n",
       "      <td>PeopleSoft</td>\n",
       "      <td>Priyanka Ramadoss\\n\\n\\t61/46, MountPleasant, \\...</td>\n",
       "      <td>Priyanka Ramadoss 61/46, MountPleasant, Coonoo...</td>\n",
       "    </tr>\n",
       "    <tr>\n",
       "      <th>...</th>\n",
       "      <td>...</td>\n",
       "      <td>...</td>\n",
       "      <td>...</td>\n",
       "    </tr>\n",
       "    <tr>\n",
       "      <th>74</th>\n",
       "      <td>Workday</td>\n",
       "      <td>Workday Integration Consultant\\n\\n\\n\\nName    ...</td>\n",
       "      <td>Workday Integration Consultant Name : Sri Kris...</td>\n",
       "    </tr>\n",
       "    <tr>\n",
       "      <th>75</th>\n",
       "      <td>Workday</td>\n",
       "      <td>Srikanth (WORKDAY hCM Consultant)\\t           ...</td>\n",
       "      <td>Srikanth (WORKDAY hCM Consultant) Seeking suit...</td>\n",
       "    </tr>\n",
       "    <tr>\n",
       "      <th>76</th>\n",
       "      <td>Workday</td>\n",
       "      <td>WORKDAY | HCM | FCM\\n\\nName \\t\\t: Kumar S.S\\n\\...</td>\n",
       "      <td>WORKDAY | HCM | FCM Name : Kumar S.S Role : Wo...</td>\n",
       "    </tr>\n",
       "    <tr>\n",
       "      <th>77</th>\n",
       "      <td>Workday</td>\n",
       "      <td>Venkateswarlu.B\\t\\t\\t\\t\\t\\t\\t\\tWorkday Consult...</td>\n",
       "      <td>Venkateswarlu.B Workday Consultant Professiona...</td>\n",
       "    </tr>\n",
       "    <tr>\n",
       "      <th>78</th>\n",
       "      <td>Workday</td>\n",
       "      <td>Vinay kumar .v\\nWorkday Functional Consultant\\...</td>\n",
       "      <td>Vinay kumar .v Workday Functional Consultant E...</td>\n",
       "    </tr>\n",
       "  </tbody>\n",
       "</table>\n",
       "<p>79 rows × 3 columns</p>\n",
       "</div>"
      ],
      "text/plain": [
       "      Category                                        Raw_Details  \\\n",
       "0   PeopleSoft  Anubhav Kumar Singh\\t\\t\\n\\n\\n\\nCore Competenci...   \n",
       "1   PeopleSoft  G. Ananda Rayudu \\n\\n\\t\\t       https://www.li...   \n",
       "2   PeopleSoft  PeopleSoft Database Administrator\\n\\n         ...   \n",
       "3   PeopleSoft  Classification: Internal\\n\\nClassification: In...   \n",
       "4   PeopleSoft  Priyanka Ramadoss\\n\\n\\t61/46, MountPleasant, \\...   \n",
       "..         ...                                                ...   \n",
       "74     Workday  Workday Integration Consultant\\n\\n\\n\\nName    ...   \n",
       "75     Workday  Srikanth (WORKDAY hCM Consultant)\\t           ...   \n",
       "76     Workday  WORKDAY | HCM | FCM\\n\\nName \\t\\t: Kumar S.S\\n\\...   \n",
       "77     Workday  Venkateswarlu.B\\t\\t\\t\\t\\t\\t\\t\\tWorkday Consult...   \n",
       "78     Workday  Vinay kumar .v\\nWorkday Functional Consultant\\...   \n",
       "\n",
       "                                      Cleaned_Details  \n",
       "0   Anubhav Kumar Singh Core Competencies: Scripti...  \n",
       "1   G. Ananda Rayudu https://www.linkedin.com/in/a...  \n",
       "2   PeopleSoft Database Administrator Gangareddy P...  \n",
       "3   Classification: Internal Classification: Inter...  \n",
       "4   Priyanka Ramadoss 61/46, MountPleasant, Coonoo...  \n",
       "..                                                ...  \n",
       "74  Workday Integration Consultant Name : Sri Kris...  \n",
       "75  Srikanth (WORKDAY hCM Consultant) Seeking suit...  \n",
       "76  WORKDAY | HCM | FCM Name : Kumar S.S Role : Wo...  \n",
       "77  Venkateswarlu.B Workday Consultant Professiona...  \n",
       "78  Vinay kumar .v Workday Functional Consultant E...  \n",
       "\n",
       "[79 rows x 3 columns]"
      ]
     },
     "execution_count": 61,
     "metadata": {},
     "output_type": "execute_result"
    }
   ],
   "source": [
    "resume_data"
   ]
  },
  {
   "cell_type": "code",
   "execution_count": 62,
   "id": "bd5572a3",
   "metadata": {},
   "outputs": [],
   "source": [
    "import re"
   ]
  },
  {
   "cell_type": "code",
   "execution_count": 63,
   "id": "220c6220",
   "metadata": {},
   "outputs": [],
   "source": [
    "resume_data.to_csv('Resume.csv', index=False)"
   ]
  },
  {
   "cell_type": "code",
   "execution_count": 64,
   "id": "a530d8ad",
   "metadata": {},
   "outputs": [],
   "source": [
    "def preprocess(sentence):\n",
    "    sentence = str(sentence)# convert sentence into string\n",
    "    sentence = sentence.lower()# convert entired string into lower case\n",
    "    sentence = sentence.replace('{html}',\"\")# removing substring from text this use when text contain tags indicating html content\n",
    "    cleanr = re.compile('<.*?>')#create a compiled expression pattern to remove all html tags\n",
    "    cleantext = re.sub(cleanr,'',sentence)# use regular expression pattern to remove the htmltag\n",
    "    rem_url = re.sub(r'http\\s+','',cleantext)# remove any url starting from http\n",
    "    rem_num = re.sub('[0-9]+','',rem_url)# remove any sequence of digit from text if present\n",
    "    \n",
    "    tokenizer = RegexpTokenizer(r'\\w+')\n",
    "    tokens = tokenizer.tokenize(rem_num)\n",
    "    filtered_words = [w for w in tokens if len(w) > 2 \n",
    "                      if not w in stopwords.words('english') ]\n",
    "    return \" \".join(filtered_words)"
   ]
  },
  {
   "cell_type": "code",
   "execution_count": 65,
   "id": "212be886",
   "metadata": {},
   "outputs": [],
   "source": [
    "resume_data = pd.read_csv('Resume.csv')\n",
    "resume_data['Resume_Details'] = resume_data.Raw_Details.apply(lambda x: preprocess(x))"
   ]
  },
  {
   "cell_type": "code",
   "execution_count": 66,
   "id": "d506c44b",
   "metadata": {},
   "outputs": [],
   "source": [
    "resume_data.drop(columns=['Cleaned_Details'],inplace=True)"
   ]
  },
  {
   "cell_type": "code",
   "execution_count": 67,
   "id": "651955b5",
   "metadata": {},
   "outputs": [
    {
     "data": {
      "text/html": [
       "<div>\n",
       "<style scoped>\n",
       "    .dataframe tbody tr th:only-of-type {\n",
       "        vertical-align: middle;\n",
       "    }\n",
       "\n",
       "    .dataframe tbody tr th {\n",
       "        vertical-align: top;\n",
       "    }\n",
       "\n",
       "    .dataframe thead th {\n",
       "        text-align: right;\n",
       "    }\n",
       "</style>\n",
       "<table border=\"1\" class=\"dataframe\">\n",
       "  <thead>\n",
       "    <tr style=\"text-align: right;\">\n",
       "      <th></th>\n",
       "      <th>Category</th>\n",
       "      <th>Raw_Details</th>\n",
       "      <th>Resume_Details</th>\n",
       "    </tr>\n",
       "  </thead>\n",
       "  <tbody>\n",
       "    <tr>\n",
       "      <th>0</th>\n",
       "      <td>PeopleSoft</td>\n",
       "      <td>Anubhav Kumar Singh\\t\\t\\n\\n\\n\\nCore Competenci...</td>\n",
       "      <td>anubhav kumar singh core competencies scriptin...</td>\n",
       "    </tr>\n",
       "    <tr>\n",
       "      <th>1</th>\n",
       "      <td>PeopleSoft</td>\n",
       "      <td>G. Ananda Rayudu \\n\\n\\t\\t       https://www.li...</td>\n",
       "      <td>ananda rayudu https www linkedin com anandguda...</td>\n",
       "    </tr>\n",
       "    <tr>\n",
       "      <th>2</th>\n",
       "      <td>PeopleSoft</td>\n",
       "      <td>PeopleSoft Database Administrator\\n\\n         ...</td>\n",
       "      <td>peoplesoft database administrator gangareddy p...</td>\n",
       "    </tr>\n",
       "    <tr>\n",
       "      <th>3</th>\n",
       "      <td>PeopleSoft</td>\n",
       "      <td>Classification: Internal\\n\\nClassification: In...</td>\n",
       "      <td>classification internal classification interna...</td>\n",
       "    </tr>\n",
       "    <tr>\n",
       "      <th>4</th>\n",
       "      <td>PeopleSoft</td>\n",
       "      <td>Priyanka Ramadoss\\n\\n\\t61/46, MountPleasant, \\...</td>\n",
       "      <td>priyanka ramadoss mountpleasant coonoor nilgir...</td>\n",
       "    </tr>\n",
       "    <tr>\n",
       "      <th>...</th>\n",
       "      <td>...</td>\n",
       "      <td>...</td>\n",
       "      <td>...</td>\n",
       "    </tr>\n",
       "    <tr>\n",
       "      <th>74</th>\n",
       "      <td>Workday</td>\n",
       "      <td>Workday Integration Consultant\\n\\n\\n\\nName    ...</td>\n",
       "      <td>workday integration consultant name sri krishn...</td>\n",
       "    </tr>\n",
       "    <tr>\n",
       "      <th>75</th>\n",
       "      <td>Workday</td>\n",
       "      <td>Srikanth (WORKDAY hCM Consultant)\\t           ...</td>\n",
       "      <td>srikanth workday hcm consultant seeking suitab...</td>\n",
       "    </tr>\n",
       "    <tr>\n",
       "      <th>76</th>\n",
       "      <td>Workday</td>\n",
       "      <td>WORKDAY | HCM | FCM\\n\\nName \\t\\t: Kumar S.S\\n\\...</td>\n",
       "      <td>workday hcm fcm name kumar role workday consul...</td>\n",
       "    </tr>\n",
       "    <tr>\n",
       "      <th>77</th>\n",
       "      <td>Workday</td>\n",
       "      <td>Venkateswarlu.B\\t\\t\\t\\t\\t\\t\\t\\tWorkday Consult...</td>\n",
       "      <td>venkateswarlu workday consultant professional ...</td>\n",
       "    </tr>\n",
       "    <tr>\n",
       "      <th>78</th>\n",
       "      <td>Workday</td>\n",
       "      <td>Vinay kumar .v\\nWorkday Functional Consultant\\...</td>\n",
       "      <td>vinay kumar workday functional consultant expe...</td>\n",
       "    </tr>\n",
       "  </tbody>\n",
       "</table>\n",
       "<p>79 rows × 3 columns</p>\n",
       "</div>"
      ],
      "text/plain": [
       "      Category                                        Raw_Details  \\\n",
       "0   PeopleSoft  Anubhav Kumar Singh\\t\\t\\n\\n\\n\\nCore Competenci...   \n",
       "1   PeopleSoft  G. Ananda Rayudu \\n\\n\\t\\t       https://www.li...   \n",
       "2   PeopleSoft  PeopleSoft Database Administrator\\n\\n         ...   \n",
       "3   PeopleSoft  Classification: Internal\\n\\nClassification: In...   \n",
       "4   PeopleSoft  Priyanka Ramadoss\\n\\n\\t61/46, MountPleasant, \\...   \n",
       "..         ...                                                ...   \n",
       "74     Workday  Workday Integration Consultant\\n\\n\\n\\nName    ...   \n",
       "75     Workday  Srikanth (WORKDAY hCM Consultant)\\t           ...   \n",
       "76     Workday  WORKDAY | HCM | FCM\\n\\nName \\t\\t: Kumar S.S\\n\\...   \n",
       "77     Workday  Venkateswarlu.B\\t\\t\\t\\t\\t\\t\\t\\tWorkday Consult...   \n",
       "78     Workday  Vinay kumar .v\\nWorkday Functional Consultant\\...   \n",
       "\n",
       "                                       Resume_Details  \n",
       "0   anubhav kumar singh core competencies scriptin...  \n",
       "1   ananda rayudu https www linkedin com anandguda...  \n",
       "2   peoplesoft database administrator gangareddy p...  \n",
       "3   classification internal classification interna...  \n",
       "4   priyanka ramadoss mountpleasant coonoor nilgir...  \n",
       "..                                                ...  \n",
       "74  workday integration consultant name sri krishn...  \n",
       "75  srikanth workday hcm consultant seeking suitab...  \n",
       "76  workday hcm fcm name kumar role workday consul...  \n",
       "77  venkateswarlu workday consultant professional ...  \n",
       "78  vinay kumar workday functional consultant expe...  \n",
       "\n",
       "[79 rows x 3 columns]"
      ]
     },
     "execution_count": 67,
     "metadata": {},
     "output_type": "execute_result"
    }
   ],
   "source": [
    "resume_data"
   ]
  },
  {
   "cell_type": "code",
   "execution_count": 68,
   "id": "28628818",
   "metadata": {},
   "outputs": [
    {
     "data": {
      "text/html": [
       "<div>\n",
       "<style scoped>\n",
       "    .dataframe tbody tr th:only-of-type {\n",
       "        vertical-align: middle;\n",
       "    }\n",
       "\n",
       "    .dataframe tbody tr th {\n",
       "        vertical-align: top;\n",
       "    }\n",
       "\n",
       "    .dataframe thead th {\n",
       "        text-align: right;\n",
       "    }\n",
       "</style>\n",
       "<table border=\"1\" class=\"dataframe\">\n",
       "  <thead>\n",
       "    <tr style=\"text-align: right;\">\n",
       "      <th></th>\n",
       "      <th>Category</th>\n",
       "      <th>Resume_Details</th>\n",
       "    </tr>\n",
       "  </thead>\n",
       "  <tbody>\n",
       "    <tr>\n",
       "      <th>0</th>\n",
       "      <td>PeopleSoft</td>\n",
       "      <td>anubhav kumar singh core competencies scriptin...</td>\n",
       "    </tr>\n",
       "    <tr>\n",
       "      <th>1</th>\n",
       "      <td>PeopleSoft</td>\n",
       "      <td>ananda rayudu https www linkedin com anandguda...</td>\n",
       "    </tr>\n",
       "    <tr>\n",
       "      <th>2</th>\n",
       "      <td>PeopleSoft</td>\n",
       "      <td>peoplesoft database administrator gangareddy p...</td>\n",
       "    </tr>\n",
       "    <tr>\n",
       "      <th>3</th>\n",
       "      <td>PeopleSoft</td>\n",
       "      <td>classification internal classification interna...</td>\n",
       "    </tr>\n",
       "    <tr>\n",
       "      <th>4</th>\n",
       "      <td>PeopleSoft</td>\n",
       "      <td>priyanka ramadoss mountpleasant coonoor nilgir...</td>\n",
       "    </tr>\n",
       "    <tr>\n",
       "      <th>...</th>\n",
       "      <td>...</td>\n",
       "      <td>...</td>\n",
       "    </tr>\n",
       "    <tr>\n",
       "      <th>74</th>\n",
       "      <td>Workday</td>\n",
       "      <td>workday integration consultant name sri krishn...</td>\n",
       "    </tr>\n",
       "    <tr>\n",
       "      <th>75</th>\n",
       "      <td>Workday</td>\n",
       "      <td>srikanth workday hcm consultant seeking suitab...</td>\n",
       "    </tr>\n",
       "    <tr>\n",
       "      <th>76</th>\n",
       "      <td>Workday</td>\n",
       "      <td>workday hcm fcm name kumar role workday consul...</td>\n",
       "    </tr>\n",
       "    <tr>\n",
       "      <th>77</th>\n",
       "      <td>Workday</td>\n",
       "      <td>venkateswarlu workday consultant professional ...</td>\n",
       "    </tr>\n",
       "    <tr>\n",
       "      <th>78</th>\n",
       "      <td>Workday</td>\n",
       "      <td>vinay kumar workday functional consultant expe...</td>\n",
       "    </tr>\n",
       "  </tbody>\n",
       "</table>\n",
       "<p>79 rows × 2 columns</p>\n",
       "</div>"
      ],
      "text/plain": [
       "      Category                                     Resume_Details\n",
       "0   PeopleSoft  anubhav kumar singh core competencies scriptin...\n",
       "1   PeopleSoft  ananda rayudu https www linkedin com anandguda...\n",
       "2   PeopleSoft  peoplesoft database administrator gangareddy p...\n",
       "3   PeopleSoft  classification internal classification interna...\n",
       "4   PeopleSoft  priyanka ramadoss mountpleasant coonoor nilgir...\n",
       "..         ...                                                ...\n",
       "74     Workday  workday integration consultant name sri krishn...\n",
       "75     Workday  srikanth workday hcm consultant seeking suitab...\n",
       "76     Workday  workday hcm fcm name kumar role workday consul...\n",
       "77     Workday  venkateswarlu workday consultant professional ...\n",
       "78     Workday  vinay kumar workday functional consultant expe...\n",
       "\n",
       "[79 rows x 2 columns]"
      ]
     },
     "execution_count": 68,
     "metadata": {},
     "output_type": "execute_result"
    }
   ],
   "source": [
    "resume_data.drop(['Raw_Details'], axis = 1, inplace = True)\n",
    "resume_data"
   ]
  },
  {
   "cell_type": "code",
   "execution_count": 69,
   "id": "3b337b12",
   "metadata": {},
   "outputs": [],
   "source": [
    "resume_data.to_csv('Cleaned_Resumes.csv', index = False)"
   ]
  },
  {
   "cell_type": "code",
   "execution_count": 70,
   "id": "c37db328",
   "metadata": {},
   "outputs": [
    {
     "data": {
      "text/html": [
       "<div>\n",
       "<style scoped>\n",
       "    .dataframe tbody tr th:only-of-type {\n",
       "        vertical-align: middle;\n",
       "    }\n",
       "\n",
       "    .dataframe tbody tr th {\n",
       "        vertical-align: top;\n",
       "    }\n",
       "\n",
       "    .dataframe thead th {\n",
       "        text-align: right;\n",
       "    }\n",
       "</style>\n",
       "<table border=\"1\" class=\"dataframe\">\n",
       "  <thead>\n",
       "    <tr style=\"text-align: right;\">\n",
       "      <th></th>\n",
       "      <th>Category</th>\n",
       "      <th>Resume_Details</th>\n",
       "    </tr>\n",
       "  </thead>\n",
       "  <tbody>\n",
       "    <tr>\n",
       "      <th>0</th>\n",
       "      <td>PeopleSoft</td>\n",
       "      <td>anubhav kumar singh core competencies scriptin...</td>\n",
       "    </tr>\n",
       "    <tr>\n",
       "      <th>1</th>\n",
       "      <td>PeopleSoft</td>\n",
       "      <td>ananda rayudu https www linkedin com anandguda...</td>\n",
       "    </tr>\n",
       "    <tr>\n",
       "      <th>2</th>\n",
       "      <td>PeopleSoft</td>\n",
       "      <td>peoplesoft database administrator gangareddy p...</td>\n",
       "    </tr>\n",
       "    <tr>\n",
       "      <th>3</th>\n",
       "      <td>PeopleSoft</td>\n",
       "      <td>classification internal classification interna...</td>\n",
       "    </tr>\n",
       "    <tr>\n",
       "      <th>4</th>\n",
       "      <td>PeopleSoft</td>\n",
       "      <td>priyanka ramadoss mountpleasant coonoor nilgir...</td>\n",
       "    </tr>\n",
       "    <tr>\n",
       "      <th>...</th>\n",
       "      <td>...</td>\n",
       "      <td>...</td>\n",
       "    </tr>\n",
       "    <tr>\n",
       "      <th>74</th>\n",
       "      <td>Workday</td>\n",
       "      <td>workday integration consultant name sri krishn...</td>\n",
       "    </tr>\n",
       "    <tr>\n",
       "      <th>75</th>\n",
       "      <td>Workday</td>\n",
       "      <td>srikanth workday hcm consultant seeking suitab...</td>\n",
       "    </tr>\n",
       "    <tr>\n",
       "      <th>76</th>\n",
       "      <td>Workday</td>\n",
       "      <td>workday hcm fcm name kumar role workday consul...</td>\n",
       "    </tr>\n",
       "    <tr>\n",
       "      <th>77</th>\n",
       "      <td>Workday</td>\n",
       "      <td>venkateswarlu workday consultant professional ...</td>\n",
       "    </tr>\n",
       "    <tr>\n",
       "      <th>78</th>\n",
       "      <td>Workday</td>\n",
       "      <td>vinay kumar workday functional consultant expe...</td>\n",
       "    </tr>\n",
       "  </tbody>\n",
       "</table>\n",
       "<p>79 rows × 2 columns</p>\n",
       "</div>"
      ],
      "text/plain": [
       "      Category                                     Resume_Details\n",
       "0   PeopleSoft  anubhav kumar singh core competencies scriptin...\n",
       "1   PeopleSoft  ananda rayudu https www linkedin com anandguda...\n",
       "2   PeopleSoft  peoplesoft database administrator gangareddy p...\n",
       "3   PeopleSoft  classification internal classification interna...\n",
       "4   PeopleSoft  priyanka ramadoss mountpleasant coonoor nilgir...\n",
       "..         ...                                                ...\n",
       "74     Workday  workday integration consultant name sri krishn...\n",
       "75     Workday  srikanth workday hcm consultant seeking suitab...\n",
       "76     Workday  workday hcm fcm name kumar role workday consul...\n",
       "77     Workday  venkateswarlu workday consultant professional ...\n",
       "78     Workday  vinay kumar workday functional consultant expe...\n",
       "\n",
       "[79 rows x 2 columns]"
      ]
     },
     "execution_count": 70,
     "metadata": {},
     "output_type": "execute_result"
    }
   ],
   "source": [
    "resume_data = pd.read_csv('Cleaned_Resumes.csv')\n",
    "resume_data"
   ]
  },
  {
   "cell_type": "code",
   "execution_count": 71,
   "id": "f603c452",
   "metadata": {},
   "outputs": [
    {
     "data": {
      "text/plain": [
       "'classification internal classification internal murali experience summary years experience working peoplesoft administration performing various infrastructure related activities peoplesoft environments installed configured peoplesoft web server application server database server process scheduler server windows unix linux platforms creating domains web server application server process scheduler server applied patches manually applied maintenance packs change assistant tool experience dpks installations applying tax updates fixes using pum migrating projects one environment another environment using application designer also capi stat tools performed single sign sso implementation experience running compare reports pre post migrations experience setting client workstation developers testers involved configuration integration broker setting modules sending messages involved production support client involved running audit reports dddaudit sysaudit integrity checks experience configuration setup ren server configured maintained report nodes settings checked clear cache servers involved troubleshooting servers like application server web server process scheduler server worked peopletools upgrade installing configuring elastic search career profile dates organization role mar may infotech peoplesoft administrator client sembcorp brazil description project involved active production support fields hrms additionally also involved maintenance enhancement system responsibility installation setup people soft hcm elm oracle creating database user assigning roles privileges users maintaining various people soft instances debugging resolving issues related application server web server process scheduler weekly monthly database maintains performed people tools upgrade performing post refresh activities dates organization role nov mar regency technologies peoplesoft administrator client wipro ind platforms people tools people soft hcm description project involved active production support fields hrms additionally also involved maintenance enhancement system responsibility installation setup people soft hcm oracle creating database user assigning roles privileges users maintaining various people soft instances debugging resolving issues related application server web server process scheduler weekly monthly database maintains creating modifying data mover scripts migrating projects using capi applying patches setting peoplesoft reporting environment reporting interacting client various production related issues applying tax updates using pum performing post refresh activities dates organization role nov nov dxc technologies formerly known csc peoplesoft administrator project title people soft hcm production support enhancement client asg usa platforms people tools people soft hcm aix description project involved active production support fields hrms additionally also involved maintenance enhancement system responsibility installation setup people soft hcm creating database user assigning roles privileges users maintaining various people soft instances debugging resolving issues related application server web server process scheduler weekly monthly database maintains creating modifying data mover scripts migrating projects using stat capi applying patches setting peoplesoft reporting environment reporting interacting client various production related issues applying tax updates using pum performing post refresh activities technology operating systems windows platforms linux erp tools peoplesoft hrms peopletools putty sql toad beyond compare rdbms oracle scheduling tool autosys version control tool capi stat languages sql personal details date birth nationality indian date place hyderabad'"
      ]
     },
     "execution_count": 71,
     "metadata": {},
     "output_type": "execute_result"
    }
   ],
   "source": [
    "resume_data.Resume_Details[3]"
   ]
  },
  {
   "cell_type": "code",
   "execution_count": 72,
   "id": "2021d1f4",
   "metadata": {},
   "outputs": [],
   "source": [
    "resume_data.to_csv('Cleaned_Resumes')"
   ]
  },
  {
   "cell_type": "code",
   "execution_count": 73,
   "id": "e0fc633f",
   "metadata": {},
   "outputs": [
    {
     "data": {
      "text/html": [
       "<div>\n",
       "<style scoped>\n",
       "    .dataframe tbody tr th:only-of-type {\n",
       "        vertical-align: middle;\n",
       "    }\n",
       "\n",
       "    .dataframe tbody tr th {\n",
       "        vertical-align: top;\n",
       "    }\n",
       "\n",
       "    .dataframe thead th {\n",
       "        text-align: right;\n",
       "    }\n",
       "</style>\n",
       "<table border=\"1\" class=\"dataframe\">\n",
       "  <thead>\n",
       "    <tr style=\"text-align: right;\">\n",
       "      <th></th>\n",
       "      <th>Category</th>\n",
       "      <th>Resume_Details</th>\n",
       "    </tr>\n",
       "  </thead>\n",
       "  <tbody>\n",
       "    <tr>\n",
       "      <th>0</th>\n",
       "      <td>PeopleSoft</td>\n",
       "      <td>anubhav kumar singh core competencies scriptin...</td>\n",
       "    </tr>\n",
       "    <tr>\n",
       "      <th>1</th>\n",
       "      <td>PeopleSoft</td>\n",
       "      <td>ananda rayudu https www linkedin com anandguda...</td>\n",
       "    </tr>\n",
       "    <tr>\n",
       "      <th>2</th>\n",
       "      <td>PeopleSoft</td>\n",
       "      <td>peoplesoft database administrator gangareddy p...</td>\n",
       "    </tr>\n",
       "    <tr>\n",
       "      <th>3</th>\n",
       "      <td>PeopleSoft</td>\n",
       "      <td>classification internal classification interna...</td>\n",
       "    </tr>\n",
       "    <tr>\n",
       "      <th>4</th>\n",
       "      <td>PeopleSoft</td>\n",
       "      <td>priyanka ramadoss mountpleasant coonoor nilgir...</td>\n",
       "    </tr>\n",
       "    <tr>\n",
       "      <th>...</th>\n",
       "      <td>...</td>\n",
       "      <td>...</td>\n",
       "    </tr>\n",
       "    <tr>\n",
       "      <th>74</th>\n",
       "      <td>Workday</td>\n",
       "      <td>workday integration consultant name sri krishn...</td>\n",
       "    </tr>\n",
       "    <tr>\n",
       "      <th>75</th>\n",
       "      <td>Workday</td>\n",
       "      <td>srikanth workday hcm consultant seeking suitab...</td>\n",
       "    </tr>\n",
       "    <tr>\n",
       "      <th>76</th>\n",
       "      <td>Workday</td>\n",
       "      <td>workday hcm fcm name kumar role workday consul...</td>\n",
       "    </tr>\n",
       "    <tr>\n",
       "      <th>77</th>\n",
       "      <td>Workday</td>\n",
       "      <td>venkateswarlu workday consultant professional ...</td>\n",
       "    </tr>\n",
       "    <tr>\n",
       "      <th>78</th>\n",
       "      <td>Workday</td>\n",
       "      <td>vinay kumar workday functional consultant expe...</td>\n",
       "    </tr>\n",
       "  </tbody>\n",
       "</table>\n",
       "<p>79 rows × 2 columns</p>\n",
       "</div>"
      ],
      "text/plain": [
       "      Category                                     Resume_Details\n",
       "0   PeopleSoft  anubhav kumar singh core competencies scriptin...\n",
       "1   PeopleSoft  ananda rayudu https www linkedin com anandguda...\n",
       "2   PeopleSoft  peoplesoft database administrator gangareddy p...\n",
       "3   PeopleSoft  classification internal classification interna...\n",
       "4   PeopleSoft  priyanka ramadoss mountpleasant coonoor nilgir...\n",
       "..         ...                                                ...\n",
       "74     Workday  workday integration consultant name sri krishn...\n",
       "75     Workday  srikanth workday hcm consultant seeking suitab...\n",
       "76     Workday  workday hcm fcm name kumar role workday consul...\n",
       "77     Workday  venkateswarlu workday consultant professional ...\n",
       "78     Workday  vinay kumar workday functional consultant expe...\n",
       "\n",
       "[79 rows x 2 columns]"
      ]
     },
     "execution_count": 73,
     "metadata": {},
     "output_type": "execute_result"
    }
   ],
   "source": [
    "resume_data"
   ]
  },
  {
   "cell_type": "code",
   "execution_count": null,
   "id": "8807c7aa",
   "metadata": {},
   "outputs": [],
   "source": []
  }
 ],
 "metadata": {
  "kernelspec": {
   "display_name": "Python 3 (ipykernel)",
   "language": "python",
   "name": "python3"
  },
  "language_info": {
   "codemirror_mode": {
    "name": "ipython",
    "version": 3
   },
   "file_extension": ".py",
   "mimetype": "text/x-python",
   "name": "python",
   "nbconvert_exporter": "python",
   "pygments_lexer": "ipython3",
   "version": "3.11.3"
  }
 },
 "nbformat": 4,
 "nbformat_minor": 5
}
